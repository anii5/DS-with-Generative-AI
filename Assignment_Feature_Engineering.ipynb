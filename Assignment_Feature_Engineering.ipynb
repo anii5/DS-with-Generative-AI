{
  "nbformat": 4,
  "nbformat_minor": 0,
  "metadata": {
    "colab": {
      "provenance": []
    },
    "kernelspec": {
      "name": "python3",
      "display_name": "Python 3"
    },
    "language_info": {
      "name": "python"
    }
  },
  "cells": [
    {
      "cell_type": "markdown",
      "source": [
        "1. What is a parameter?\n",
        "  - A parameter is a variable that is learned from the data during the training process. It is used to represent the underlying relationships in the data and is used to make predictions on new data. A hyperparameter, on the other hand, is a variable that is set before the training process begins."
      ],
      "metadata": {
        "id": "XC4ST_vU2Xrb"
      }
    },
    {
      "cell_type": "markdown",
      "source": [
        "2. What is correlation?\n",
        "What does negative correlation mean?\n",
        "  - The most commonly used correlation coefficient is the Pearson coefficient which ranges from -1.0 to +1.0. A positive correlation indicates two variables that tend to move in the same direction.\n",
        "  - A negative correlation is a relationship between two variables that move in opposite directions."
      ],
      "metadata": {
        "id": "FLjePGzS4_8A"
      }
    },
    {
      "cell_type": "markdown",
      "source": [
        "3. Define Machine Learning. What are the main components in Machine Learning?\n",
        "  - Machine learning, a dynamic branch of artificial intelligence, empowers systems to enhance their performance over time without the need for explicit programming. Its defining features include: Data-Driven Insights: Machine learning models depend on vast datasets to uncover patterns and generate accurate predictions.\n",
        "  - There are three main elements to every machine learning algorithm, and they include: Representation: what the model looks like; how knowledge is represented. Evaluation: how good models are differentiated; how programs are evaluated. Optimization: the process for finding good models; how programs are generated."
      ],
      "metadata": {
        "id": "fVLRdsqB5YnY"
      }
    },
    {
      "cell_type": "markdown",
      "source": [
        "4. How does loss value help in determining whether the model is good or not?\n",
        "  - A decrease in the loss value suggests that the model is making better predictions, as the loss represents the error or dissimilarity between the predicted output and the true output. Therefore, a lower loss"
      ],
      "metadata": {
        "id": "Fr0GQNmE5sxK"
      }
    },
    {
      "cell_type": "markdown",
      "source": [
        "5. What are continuous and categorical variables?\n",
        "  - There are three main types of variables: continuous variables can take any numerical value and are measured; discrete variables can only take certain numerical values and are counted; and categorical variables involve non-numeric groups or categories."
      ],
      "metadata": {
        "id": "wUOmQdgI538m"
      }
    },
    {
      "cell_type": "markdown",
      "source": [
        "6. How do we handle categorical variables in Machine Learning? What are the common techniques?\n",
        "  - categorical variables in most machine learning algorithms, you must convert them into a numerical format. This process is known as encoding. The choice of encoding technique depends on the nature of the categorical data (nominal or ordinal) and the machine learning model being used.\n",
        "      - Common Encoding Techniques\n",
        "          - One-Hot Encoding\n",
        "          - Label Encoding\n",
        "          - Ordinal Encoding\n",
        "          - Target Encoding\n",
        "          - Frequency Encoding"
      ],
      "metadata": {
        "id": "LzQcmgJf5_ye"
      }
    },
    {
      "cell_type": "markdown",
      "source": [
        "7. What do you mean by training and testing a dataset?\n",
        "  - Training is the process of teaching a machine learning model to recognize patterns and make predictions. The training set is the portion of the data used for this purpose. The model learns from this data by adjusting its internal parameters to minimize the difference between its predictions and the actual values in the dataset.\n",
        "  - Testing is the process of evaluating the trained model's performance. The testing set is the portion of the data that the model has never seen before. The model uses its learned knowledge to make predictions on this new data."
      ],
      "metadata": {
        "id": "UKzTymey65c6"
      }
    },
    {
      "cell_type": "markdown",
      "source": [
        "8. What is sklearn.preprocessing?\n",
        "  - sklearn.preprocessing is a module within the scikit-learn machine learning library in Python. It provides a wide range of functions and classes to perform common data preprocessing tasks. Preprocessing is the crucial step of transforming raw data into a clean and suitable format for machine learning algorithms."
      ],
      "metadata": {
        "id": "pyLnYPBe7WHv"
      }
    },
    {
      "cell_type": "markdown",
      "source": [
        "9. What is a Test set?\n",
        "  - A test set is a portion of a dataset that is kept separate from the data used to train a machine learning model. Its sole purpose is to provide a final, unbiased evaluation of the model's performance on new, unseen data.\n",
        "\n",
        "\n"
      ],
      "metadata": {
        "id": "LOIfXoRS7xxj"
      }
    },
    {
      "cell_type": "markdown",
      "source": [
        "10. How do we split data for model fitting (training and testing) in Python?\n",
        "How do you approach a Machine Learning problem?\n",
        "  - The train_test_split function is the standard way to split your data. It takes your features (X) and your target variable (y) and shuffles them before splitting, which is crucial for ensuring that the training and testing sets are representative of the overall dataset.\n",
        "      - Approaching a Machine Learning Problem\n",
        "          - Define the Problem\n",
        "          - Data Collection\n",
        "          - Data Preprocessing\n",
        "          - Model Selection\n",
        "          - Training and Evaluation\n",
        "          - Final Evaluation"
      ],
      "metadata": {
        "id": "EuTXX_m58ExV"
      }
    },
    {
      "cell_type": "markdown",
      "source": [
        "11. Why do we have to perform EDA before fitting a model to the data?\n",
        "  - EDA is primarily used to see what data can reveal beyond the formal modeling or hypothesis testing task and provides a provides a better understanding of data set variables and the relationships between them."
      ],
      "metadata": {
        "id": "Mud5hpoR9qER"
      }
    },
    {
      "cell_type": "markdown",
      "source": [
        "12. What is correlation?\n",
        "  - Correlation is a statistical measure that expresses the extent to which two variables are linearly related (meaning they change together at a constant rate). It's a common tool for describing simple relationships without making a statement about cause and effect."
      ],
      "metadata": {
        "id": "uGmjvOrJ-DIq"
      }
    },
    {
      "cell_type": "markdown",
      "source": [
        "13. What does negative correlation mean?\n",
        "  - A negative correlation is a relationship between two variables that move in opposite directions. In other words, when variable A increases, variable B decreases."
      ],
      "metadata": {
        "id": "8UVVxvdR-NUt"
      }
    },
    {
      "cell_type": "markdown",
      "source": [
        "14. How can you find correlation between variables in Python?\n",
        "  - The .corr() method calculates the Pearson correlation coefficient by default, which measures the linear relationship between two variables. The resulting correlation matrix is a table showing the correlation coefficient between every possible pair of variables in the DataFrame."
      ],
      "metadata": {
        "id": "dFhUYy6M-WE2"
      }
    },
    {
      "cell_type": "markdown",
      "source": [
        "15. What is causation? Explain difference between correlation and causation with an example.\n",
        "  - Causation, or causality, is a relationship where one event (the cause) directly brings about another event (the effect). It means that a change in one variable is responsible for the change in another. For a causal relationship to exist, the cause must precede the effect, and there must be a clear mechanism linking the two.\n",
        "      - The Difference Between Correlation and Causation\n",
        "          - Correlation means there is a mutual relationship or a statistical association between two variables. They tend to move together—either both increase, both decrease, or one increases as the other decreases. This relationship can be positive, negative, or non-existent.\n",
        "          - Causation means that a change in one variable is the direct cause of a change in the other. It's a cause-and-effect relationship."
      ],
      "metadata": {
        "id": "bqa1UWnkBXqx"
      }
    },
    {
      "cell_type": "markdown",
      "source": [
        "16. What is an Optimizer? What are different types of optimizers? Explain each with an example.\n",
        "  - An optimizer is an algorithm or method used to adjust the parameters of a machine learning model to minimize the loss function. The loss function measures how well the model is performing; a lower value indicates a better-performing model.\n",
        "      - Types of Optimizers\n",
        "          - Gradient Descent\n",
        "              - Example: Training a neural network with a batch size of 32. The optimizer updates the weights after processing every 32 samples.\n",
        "          - Advanced Optimizers\n",
        "              - Example: If the optimizer is moving downhill in a consistent direction, momentum will help it speed up and move more directly to the minimum, avoiding small local fluctuations."
      ],
      "metadata": {
        "id": "K9FEtYdLB5SD"
      }
    },
    {
      "cell_type": "markdown",
      "source": [
        "17. What is sklearn.linear_model ?\n",
        "  - sklearn.linear_model is a module within the scikit-learn machine learning library that provides a variety of algorithms for linear regression and classification. These models are a fundamental part of machine learning, known for their simplicity, interpretability, and efficiency."
      ],
      "metadata": {
        "id": "1uMqOQDpClAp"
      }
    },
    {
      "cell_type": "markdown",
      "source": [
        "18. What does model.fit() do? What arguments must be given?\n",
        "  - The model.fit() method in machine learning, particularly in scikit-learn, trains a model on a given dataset.\n",
        "      - Required Arguments\n",
        "          - X: The training data, or features. This is typically a 2D array-like structure (e.g., a NumPy array or a pandas DataFrame) where each row represents a data sample and each column represents a feature. It's the \"input\" the model will use to make predictions.\n",
        "\n",
        "          - y: The target variable. This is a 1D array-like structure that contains the values the model is trying to predict. In a regression problem, it would be the continuous numerical values; in a classification problem, it would be the class labels."
      ],
      "metadata": {
        "id": "GPNoT0lHCvot"
      }
    },
    {
      "cell_type": "markdown",
      "source": [
        "19. What does model.predict() do? What arguments must be given?\n",
        "  - The model.predict() method in machine learning uses a trained model to make predictions on new, unseen data.\n",
        "      - Required Arguments\n",
        "          - X: The input data, or features, for which you want to make a prediction. This is a 2D array-like structure (like a NumPy array or a pandas DataFrame), where each row represents a data sample. It's crucial that this data has the same number of features and is preprocessed in the same way as the data used for training."
      ],
      "metadata": {
        "id": "KZ9Ps7n9DM0X"
      }
    },
    {
      "cell_type": "markdown",
      "source": [
        "20. What are continuous and categorical variables?\n",
        "  - A continuous variable is a numerical variable that can take on any value within a given range. These variables are typically measured rather than counted. The values can be infinitely divided into smaller and smaller units, including decimals and fractions.\n",
        "  - A categorical variable, also known as a qualitative or discrete variable, represents data that falls into distinct, non-numerical categories or groups. These variables are typically counted and sorted rather than measured."
      ],
      "metadata": {
        "id": "A0Qf6FV1De_l"
      }
    },
    {
      "cell_type": "markdown",
      "source": [
        "21. What is feature scaling? How does it help in Machine Learning?\n",
        "  - Feature scaling is a data preprocessing technique used in machine learning to transform the numerical features of a dataset to a common scale. It's necessary because real-world datasets often have features with vastly different ranges and units\n",
        "      - How it helps in machine learning\n",
        "          - Prevents features from dominating\n",
        "          - Speeds up convergence\n",
        "          - Improves model performance"
      ],
      "metadata": {
        "id": "C-w8wVTaFgwg"
      }
    },
    {
      "cell_type": "markdown",
      "source": [
        "22. How do we perform scaling in Python?\n",
        "  - In min-max you will subtract the minimum value in the dataset with all the values and then divide this by the range of the dataset(maximum-minimum). In this case, your dataset will lie between 0 and 1 in all cases whereas in the previous case, it was between -1 and +1."
      ],
      "metadata": {
        "id": "D3eLKFzMGwbv"
      }
    },
    {
      "cell_type": "markdown",
      "source": [
        "23. What is sklearn.preprocessing?\n",
        "  - The sklearn. preprocessing package provides several common utility functions and transformer classes to change raw feature vectors into a representation that is more suitable for the downstream estimators."
      ],
      "metadata": {
        "id": "CLXxpqhQHGPh"
      }
    },
    {
      "cell_type": "markdown",
      "source": [
        "24. How do we split data for model fitting (training and testing) in Python?\n",
        "  - In Python, we use the train_test_split function from the scikit-learn library to split a dataset into training and testing sets. This is a crucial step in machine learning to evaluate how well a model generalizes to new, unseen data."
      ],
      "metadata": {
        "id": "VfFurZ2LHSFa"
      }
    },
    {
      "cell_type": "markdown",
      "source": [
        "25. Explain data encoding?\n",
        "  - Data Encoding refers to the converting of categorical variables into numerical representations that can be understood by machine learning algorithms. Common techniques include one-hot encoding, label encoding, or ordinal encoding."
      ],
      "metadata": {
        "id": "zCZbcjmOH94e"
      }
    },
    {
      "cell_type": "code",
      "execution_count": null,
      "metadata": {
        "id": "xqtDREWRr2eD"
      },
      "outputs": [],
      "source": []
    }
  ]
}
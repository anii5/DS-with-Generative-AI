{
  "nbformat": 4,
  "nbformat_minor": 0,
  "metadata": {
    "colab": {
      "provenance": []
    },
    "kernelspec": {
      "name": "python3",
      "display_name": "Python 3"
    },
    "language_info": {
      "name": "python"
    }
  },
  "cells": [
    {
      "cell_type": "markdown",
      "source": [
        "# OOPS"
      ],
      "metadata": {
        "id": "tjHvMvOfHvrb"
      }
    },
    {
      "cell_type": "markdown",
      "source": [
        "1.  What is Object-Oriented Programming (OOP)?\n",
        "  - Object-Oriented Programming (OOP) is a programming paradigm that uses \"objects\" to design applications and computer programs."
      ],
      "metadata": {
        "id": "TPqHkGafH5GN"
      }
    },
    {
      "cell_type": "markdown",
      "source": [
        "2. What is a class in OOP?\n",
        "  - In object-oriented programming (OOP), a class is a blueprint or template for creating objects. It defines the properties (data) and behaviors (methods) that objects of that class will possess.\n",
        "  "
      ],
      "metadata": {
        "id": "b2I4DpQsIJAo"
      }
    },
    {
      "cell_type": "markdown",
      "source": [
        "3. What is an object in OOP?\n",
        "  - In Object-Oriented Programming (OOP), an object is a fundamental building block representing a specific instance of a class. It encapsulates both data (attributes) and the methods (functions) that operate on that data."
      ],
      "metadata": {
        "id": "yAuNuwZlIl1i"
      }
    },
    {
      "cell_type": "markdown",
      "source": [
        "4. What is the difference between abstraction and encapsulation?\n",
        "  - Abstraction and encapsulation are two fundamental concepts in object-oriented programming, often confused but distinct in their purpose. Abstraction focuses on hiding unnecessary complexity and showing only the essential features of an object.\n",
        "  - Encapsulation focuses on bundling the data (attributes) and methods (functions) that operate on that data into a single unit (class) and restricting access to the internal details."
      ],
      "metadata": {
        "id": "9zGcKH8yIxKM"
      }
    },
    {
      "cell_type": "markdown",
      "source": [
        "5. What are dunder methods in Python?\n",
        "  - Dunder methods, also known as magic methods or special methods, are a core part of Python's object model. They are distinguished by their names, which begin and end with double underscores (e.g., __init__, __str__, __add__)."
      ],
      "metadata": {
        "id": "gRo5FYmzJFS6"
      }
    },
    {
      "cell_type": "markdown",
      "source": [
        "6.  Explain the concept of inheritance in OOP.\n",
        "  - Inheritance in object-oriented programming (OOP) is a mechanism where a new class (the subclass or child class) is created based on an existing class (the superclass or parent class), inheriting its attributes and methods."
      ],
      "metadata": {
        "id": "ngafzghHJPUv"
      }
    },
    {
      "cell_type": "markdown",
      "source": [
        "7.  What is polymorphism in OOP?\n",
        "  - Polymorphism, in object-oriented programming (OOP), is the ability of an object to take on many forms or behaviors. It allows different classes to be treated as objects of a common superclass, enabling a single interface to handle diverse object types."
      ],
      "metadata": {
        "id": "pJ5W3bUvJfr8"
      }
    },
    {
      "cell_type": "markdown",
      "source": [
        "8.  How is encapsulation achieved in Python?\n",
        "  - Encapsulation in Python, a core principle of Object-Oriented Programming (OOP), is achieved through conventions and mechanisms that control access to the internal state of objects. Unlike some other languages with strict access modifiers like public, private, and protected, Python relies on a combination of naming conventions and property decorators to achieve this."
      ],
      "metadata": {
        "id": "tEYm4corJrK9"
      }
    },
    {
      "cell_type": "markdown",
      "source": [
        "9. What is a constructor in Python?\n",
        "  - In Python, a constructor is a special method within a class that is automatically invoked when a new instance (object) of that class is created. Its primary purpose is to initialize the attributes of the newly created object and set up its initial state."
      ],
      "metadata": {
        "id": "XGrsmJzoJ431"
      }
    },
    {
      "cell_type": "markdown",
      "source": [
        "10. What are class and static methods in Python?\n",
        "  - In Python, both class methods and static methods are defined within a class but differ in how they interact with the class and its instances.\n",
        "      - Class Methods:\n",
        "        - A class method is bound to the class and takes the class itself as its first argument, conventionally named cls.\n",
        "        - It is defined using the @classmethod decorator.\n",
        "      - Static Methods:\n",
        "        - A static method does not receive any implicit first argument (neither self for an instance nor cls for the class).\n",
        "        - It is defined using the @staticmethod decorator."
      ],
      "metadata": {
        "id": "x04kLAzRKCWs"
      }
    },
    {
      "cell_type": "markdown",
      "source": [
        "11.  What is method overloading in Python?\n",
        "  - Method overloading in Python refers to the ability to define multiple methods within a single class that share the same name but can be called with different arguments. This allows a single method name to perform different actions depending on the number or type of parameters provided."
      ],
      "metadata": {
        "id": "hmhUrJiOKmmK"
      }
    },
    {
      "cell_type": "markdown",
      "source": [
        "12. What is method overriding in OOP?\n",
        "  - Method overriding in object-oriented programming is when a subclass provides a specific implementation of a method that is already defined in its superclass."
      ],
      "metadata": {
        "id": "-D5Ud5oeK7yk"
      }
    },
    {
      "cell_type": "markdown",
      "source": [
        "13. What is a property decorator in Python?\n",
        "  - The @property decorator in Python is a built-in decorator that allows you to define methods within a class that can be accessed like attributes, providing a way to manage how those attributes are accessed, modified, and potentially deleted. It essentially turns a method into a \"managed attribute.\""
      ],
      "metadata": {
        "id": "rmYkljNKLKGe"
      }
    },
    {
      "cell_type": "markdown",
      "source": [
        "14. Why is polymorphism important in OOP?\n",
        "  - Polymorphism is crucial in object-oriented programming because it allows objects of different classes to be treated as objects of a common type, promoting code reusability, flexibility, and maintainability. It enables methods to behave differently based on the object's actual class at runtime, which simplifies code and allows for easier extension of functionality."
      ],
      "metadata": {
        "id": "nzTTia__LbYJ"
      }
    },
    {
      "cell_type": "markdown",
      "source": [
        "15. What is an abstract class in Python?\n",
        "  - In Python, an abstract class is a class that cannot be instantiated directly and is designed to be inherited by other classes. It serves as a blueprint or a template, defining a common interface or structure that its subclasses must adhere to."
      ],
      "metadata": {
        "id": "lnp3aQ7rLn8t"
      }
    },
    {
      "cell_type": "markdown",
      "source": [
        "16. What are the advantages of OOP?\n",
        "  - Modularity: OOP allows you to break down large systems into smaller, manageable objects. Each object encapsulates its data and behavior, promoting independent development and easier troubleshooting. This modularity makes it easier to isolate and fix bugs, as issues are typically contained within specific objects rather than affecting the entire system.\n",
        "  - Reusability: OOP promotes code reuse through inheritance, enabling you to create new classes based on existing ones. This eliminates the need to rewrite code for similar functionalities, saving time and effort. For example, if you have a class for a \"Car,\" you can create a \"SportsCar\" class that inherits properties and methods from the \"Car\" class, adding its own unique features.\n",
        "  - Flexibility and Extensibility: Polymorphism, a key concept in OOP, allows objects to be treated as instances of their parent class, even if they have different underlying implementations. This provides flexibility and allows for easier modification and extension of code as needed.\n",
        "  - Abstraction: OOP allows you to hide complex implementation details and expose only the necessary information to the user. This simplifies the interaction with objects and allows users to focus on what the object does rather than how it does it.\n",
        "  - Improved Code Organization and Readability: OOP structures code into classes and objects, making it more organized and easier to understand. This improved structure makes it easier to collaborate on projects and maintain code over time.\n"
      ],
      "metadata": {
        "id": "65mvGkaiLz0-"
      }
    },
    {
      "cell_type": "markdown",
      "source": [
        "17. What is the difference between a class variable and an instance variable?\n",
        "  - **Class Variables:**\n",
        "      - Defined at the class level, accessible to all instances of the class and the class itself.\n",
        "      - Only one copy of the class variable exists, and it's stored in a special memory location associated with the class, not with individual objects.\n",
        "      - Can be accessed using the class name or through any instance of the class.\n",
        "  - **Instance Variables:**\n",
        "      - Defined within a class, but outside of any method, and are specific to each instance (object) of the class.\n",
        "      - Each instance of the class has its own copy of the instance variables, stored in the memory allocated for that specific object.\n",
        "      - Can only be accessed through an object of the class (e.g., my_object.variable_name)."
      ],
      "metadata": {
        "id": "QzrK7oC2MQLR"
      }
    },
    {
      "cell_type": "markdown",
      "source": [
        "18. What is multiple inheritance in Python?\n",
        "  - Multiple inheritance in Python is a feature that allows a class to inherit attributes and methods from more than one parent class. This means a single child class can combine functionalities and characteristics from multiple distinct base classes."
      ],
      "metadata": {
        "id": "4NR_3wxSM8ga"
      }
    },
    {
      "cell_type": "markdown",
      "source": [
        "19. Explain the purpose of ‘’__str__’ and ‘__repr__’ ‘ methods in Python.\n",
        "  - __str__ (for users): To provide a human-readable, user-friendly string representation of an object. This representation is intended for display to end-users and should prioritize clarity and conciseness.\n",
        "  - __repr__ (for developers): To provide an unambiguous, developer-friendly string representation of an object. This representation is primarily used for debugging and development, aiming to be detailed enough to reconstruct the object or understand its internal state."
      ],
      "metadata": {
        "id": "PcaF_hKkNIXU"
      }
    },
    {
      "cell_type": "markdown",
      "source": [
        "20. What is the significance of the ‘super()’ function in Python?\n",
        "  - The super() function in Python holds significant importance in the context of object-oriented programming, particularly concerning inheritance. Its primary significance lies in enabling access to methods and properties of a parent or superclass from within a child or subclass."
      ],
      "metadata": {
        "id": "QJrPFW4mNeRb"
      }
    },
    {
      "cell_type": "markdown",
      "source": [
        "21. What is the significance of the __del__ method in Python?\n",
        "  - The __del__ method in Python, also known as a destructor, holds significance in object-oriented programming for performing cleanup operations when an object is about to be garbage collected."
      ],
      "metadata": {
        "id": "TZ2zbOlmNn83"
      }
    },
    {
      "cell_type": "markdown",
      "source": [
        "22. What is the difference between @staticmethod and @classmethod in Python?\n",
        "  - @classmethod:\n",
        "      - Takes the class itself (cls) as its first argument.\n",
        "      - Can access and modify class-level attributes and call other class methods.\n",
        "      - Commonly used for factory methods, which return instances of the class, potentially with different initializations.\n",
        "  - @staticmethod:\n",
        "      - Does not take self (instance) or cls (class) as its first argument.\n",
        "      - Behaves like a regular function but is logically grouped within a class.\n",
        "      - Cannot access or modify class or instance state directly.\n",
        "      - Suitable for utility functions that are related to the class but do not depend on any specific instance or class data."
      ],
      "metadata": {
        "id": "hvY57yWqN0jC"
      }
    },
    {
      "cell_type": "markdown",
      "source": [
        "23.  How does polymorphism work in Python with inheritance?\n",
        "  - Polymorphism in Python, when combined with inheritance, allows objects of different classes that share a common superclass to be treated uniformly through a shared interface, even though their specific implementations of that interface may differ. This is primarily achieved through Method Overriding."
      ],
      "metadata": {
        "id": "fo6xRJEJOUWM"
      }
    },
    {
      "cell_type": "markdown",
      "source": [
        "24. What is method chaining in Python OOP?\n",
        "  - Method chaining in Python Object-Oriented Programming (OOP) is a technique that allows multiple methods to be called sequentially on the same object in a single, continuous line of code. This is achieved by having each method in the chain return the object itself (self) after performing its operation."
      ],
      "metadata": {
        "id": "iNdfiv68Os2v"
      }
    },
    {
      "cell_type": "markdown",
      "source": [
        "25. What is the purpose of the __call__ method in Python?\n",
        "  - The purpose of the __call__ method in Python is to make instances of a class callable, meaning they can be treated and invoked like functions.\n",
        "  - When the __call__ method is defined within a class, and an instance of that class is created, the instance can then be called directly using parentheses, just like a regular function. When this happens, the __call__ method of that instance is automatically executed."
      ],
      "metadata": {
        "id": "1Z_25k8fO49t"
      }
    },
    {
      "cell_type": "markdown",
      "source": [
        "# Practical Questions"
      ],
      "metadata": {
        "id": "puRgMmOQPKYi"
      }
    },
    {
      "cell_type": "markdown",
      "source": [
        "1. Create a parent class Animal with a method speak() that prints a generic message. Create a child class Dog\n",
        "that overrides the speak() method to print \"Bark!\"."
      ],
      "metadata": {
        "id": "3Hm8rjgCPR5n"
      }
    },
    {
      "cell_type": "code",
      "execution_count": null,
      "metadata": {
        "colab": {
          "base_uri": "https://localhost:8080/"
        },
        "id": "-VASUPMjHlm0",
        "outputId": "c9917273-6fcb-415c-a5ba-953c374493d5"
      },
      "outputs": [
        {
          "output_type": "stream",
          "name": "stdout",
          "text": [
            "This animal makes a sound.\n",
            "The dog barks: Woof woof!\n"
          ]
        }
      ],
      "source": [
        "class Animal:\n",
        "    def speak(self):\n",
        "        print(\"This animal makes a sound.\")\n",
        "class Dog(Animal):\n",
        "    pass\n",
        "class Dog(Animal):\n",
        "    def bark(self):\n",
        "        print(\"The dog barks: Woof woof!\")\n",
        "dog = Dog()\n",
        "dog.speak()\n",
        "dog.bark()"
      ]
    },
    {
      "cell_type": "markdown",
      "source": [
        "2. Write a program to create an abstract class Shape with a method area(). Derive classes Circle and Rectangle from it and implement the area() method in both."
      ],
      "metadata": {
        "id": "0WYv4BeJRU8X"
      }
    },
    {
      "cell_type": "code",
      "source": [
        "import abc\n",
        "import math\n",
        "\n",
        "class Shape(metaclass=abc.ABCMeta):\n",
        "    @abc.abstractmethod\n",
        "    def area(self):\n",
        "        pass\n",
        "\n",
        "class Circle(Shape):\n",
        "    def __init__(self, radius):\n",
        "        self.radius = radius\n",
        "\n",
        "    def area(self):\n",
        "        return math.pi * self.radius**2\n",
        "\n",
        "class Rectangle(Shape):\n",
        "    def __init__(self, length, width):\n",
        "        self.length = length\n",
        "        self.width = width\n",
        "\n",
        "    def area(self):\n",
        "        return self.length * self.width\n",
        "\n",
        "circle = Circle(5)\n",
        "rectangle = Rectangle(4, 6)\n",
        "\n",
        "print(f\"Circle area: {circle.area()}\")\n",
        "print(f\"Rectangle area: {rectangle.area()}\")"
      ],
      "metadata": {
        "colab": {
          "base_uri": "https://localhost:8080/"
        },
        "id": "RKzbFq96QGil",
        "outputId": "83422e9e-6ddf-4709-ddc7-84874269c94f"
      },
      "execution_count": null,
      "outputs": [
        {
          "output_type": "stream",
          "name": "stdout",
          "text": [
            "Circle area: 78.53981633974483\n",
            "Rectangle area: 24\n"
          ]
        }
      ]
    },
    {
      "cell_type": "markdown",
      "source": [
        "3.  Implement a multi-level inheritance scenario where a class Vehicle has an attribute type. Derive a class Car and further derive a class ElectricCar that adds a battery attribute."
      ],
      "metadata": {
        "id": "Zr0bYATGRu6Z"
      }
    },
    {
      "cell_type": "code",
      "source": [
        "class Vehicle:\n",
        "    def __init__(self, type):\n",
        "        self.type = type\n",
        "\n",
        "    def __str__(self):\n",
        "        return f\"Vehicle type: {self.type}\"\n",
        "\n",
        "class Car(Vehicle):\n",
        "    def __init__(self, type, num_doors):\n",
        "        super().__init__(type)\n",
        "        self.num_doors = num_doors\n",
        "\n",
        "    def __str__(self):\n",
        "        return f\"{super().__str__()} , Number of doors: {self.num_doors}\"\n",
        "\n",
        "class ElectricCar(Car):\n",
        "    def __init__(self, type, num_doors, battery_capacity):\n",
        "        super().__init__(type, num_doors)\n",
        "        self.battery_capacity = battery_capacity\n",
        "\n",
        "    def __str__(self):\n",
        "        return f\"{super().__str__()} , Battery capacity: {self.battery_capacity} kWh\"\n",
        "\n",
        "vehicle = Vehicle(\"Generic\")\n",
        "car = Car(\"Sedan\", 4)\n",
        "electric_car = ElectricCar(\"Hatchback\", 5, 60)\n",
        "\n",
        "print(vehicle)\n",
        "print(car)\n",
        "print(electric_car)"
      ],
      "metadata": {
        "id": "37xz2bpsSDhO",
        "colab": {
          "base_uri": "https://localhost:8080/"
        },
        "outputId": "b774ad89-931e-4a68-a143-9be4fc86cc30"
      },
      "execution_count": 1,
      "outputs": [
        {
          "output_type": "stream",
          "name": "stdout",
          "text": [
            "Vehicle type: Generic\n",
            "Vehicle type: Sedan , Number of doors: 4\n",
            "Vehicle type: Hatchback , Number of doors: 5 , Battery capacity: 60 kWh\n"
          ]
        }
      ]
    },
    {
      "cell_type": "markdown",
      "source": [
        "4.  Demonstrate polymorphism by creating a base class Bird with a method fly(). Create two derived classes Sparrow and Penguin that override the fly() method."
      ],
      "metadata": {
        "id": "i5PzxUk3UkVn"
      }
    },
    {
      "cell_type": "code",
      "source": [
        "class Bird:\n",
        "    def fly(self):\n",
        "        print(\"The bird is flying.\")\n",
        "\n",
        "class Sparrow(Bird):\n",
        "    def fly(self):\n",
        "        print(\"A sparrow is flying.\")\n",
        "\n",
        "class Penguin(Bird):\n",
        "    def fly(self):\n",
        "        print(\"A penguin cannot fly.\")\n",
        "\n",
        "bird = Bird()\n",
        "sparrow = Sparrow()\n",
        "penguin = Penguin()\n",
        "\n",
        "bird.fly()\n",
        "sparrow.fly()\n",
        "penguin.fly()"
      ],
      "metadata": {
        "id": "bdWHKzVSRr0b",
        "colab": {
          "base_uri": "https://localhost:8080/"
        },
        "outputId": "3032aa99-8afd-4ee2-8d97-c7c24f66c220"
      },
      "execution_count": 2,
      "outputs": [
        {
          "output_type": "stream",
          "name": "stdout",
          "text": [
            "The bird is flying.\n",
            "A sparrow is flying.\n",
            "A penguin cannot fly.\n"
          ]
        }
      ]
    },
    {
      "cell_type": "markdown",
      "source": [
        "5.  Write a program to demonstrate encapsulation by creating a class BankAccount with private attributes\n",
        "balance and methods to deposit, withdraw, and check balance."
      ],
      "metadata": {
        "id": "uu-roUdXUzxu"
      }
    },
    {
      "cell_type": "code",
      "source": [
        "class BankAccount:\n",
        "\n",
        "    def __init__(self, initial_balance=0):\n",
        "\n",
        "        self.__balance = initial_balance\n",
        "\n",
        "    def deposit(self, amount):\n",
        "\n",
        "        if amount > 0:\n",
        "            self.__balance += amount\n",
        "            print(f\"Deposited {amount}. New balance: {self.__balance}\")\n",
        "        else:\n",
        "            print(\"Deposit amount must be positive.\")\n",
        "\n",
        "    def withdraw(self, amount):\n",
        "\n",
        "        if amount > 0 and amount <= self.__balance:\n",
        "            self.__balance -= amount\n",
        "            print(f\"Withdrew {amount}. New balance: {self.__balance}\")\n",
        "        else:\n",
        "            print(\"Insufficient funds or invalid amount.\")\n",
        "\n",
        "    def get_balance(self):\n",
        "\n",
        "        return self.__balance\n",
        "\n",
        "\n",
        "if __name__ == \"__main__\":\n",
        "    account = BankAccount(100)\n",
        "    print(f\"Initial balance: {account.get_balance()}\")\n",
        "    account.deposit(50)\n",
        "    account.withdraw(20)\n",
        "    account.withdraw(150)\n",
        "    print(f\"Final balance: {account.get_balance()}\")"
      ],
      "metadata": {
        "colab": {
          "base_uri": "https://localhost:8080/"
        },
        "id": "C8TdDQ9WUuG2",
        "outputId": "a8d23f62-03c6-47e9-90bd-2ba769496244"
      },
      "execution_count": 5,
      "outputs": [
        {
          "output_type": "stream",
          "name": "stdout",
          "text": [
            "Initial balance: 100\n",
            "Deposited 50. New balance: 150\n",
            "Withdrew 20. New balance: 130\n",
            "Insufficient funds or invalid amount.\n",
            "Final balance: 130\n"
          ]
        }
      ]
    },
    {
      "cell_type": "markdown",
      "source": [
        "6.Demonstrate runtime polymorphism using a method play() in a base class Instrument. Derive classes Guitar\n",
        "and Piano that implement their own version of play()"
      ],
      "metadata": {
        "id": "bnqYAwowVTqZ"
      }
    },
    {
      "cell_type": "code",
      "source": [
        "class Instrument:\n",
        "    def play(self):\n",
        "        print(\"Playing a generic instrument sound...\")\n",
        "\n",
        "class Guitar(Instrument):\n",
        "    def play(self):\n",
        "        print(\"Strumming the guitar...\")\n",
        "\n",
        "class Piano(Instrument):\n",
        "    def play(self):\n",
        "        print(\"Playing the piano...\")\n",
        "instrument1 = Instrument()\n",
        "instrument2 = Guitar()\n",
        "instrument3 = Piano()\n",
        "\n",
        "instrument1.play()\n",
        "instrument2.play()\n",
        "instrument3.play()"
      ],
      "metadata": {
        "colab": {
          "base_uri": "https://localhost:8080/"
        },
        "id": "K7SoSmFgVMzj",
        "outputId": "19bff2d6-88c4-4619-e341-9a3e98dae2b9"
      },
      "execution_count": 8,
      "outputs": [
        {
          "output_type": "stream",
          "name": "stdout",
          "text": [
            "Playing a generic instrument sound...\n",
            "Strumming the guitar...\n",
            "Playing the piano...\n"
          ]
        }
      ]
    },
    {
      "cell_type": "markdown",
      "source": [
        "7. Create a class MathOperations with a class method add_numbers() to add two numbers and a static\n",
        "method subtract_numbers() to subtract two numbers."
      ],
      "metadata": {
        "id": "8l4lb9TVWqdN"
      }
    },
    {
      "cell_type": "code",
      "source": [
        "class MathOperations:\n",
        "    @classmethod\n",
        "    def add_numbers(cls, num1, num2):\n",
        "        return num1 + num2\n",
        "\n",
        "    @staticmethod\n",
        "    def subtract_numbers(num1, num2):\n",
        "        return num1 - num2\n",
        "\n",
        "# Example usage:\n",
        "sum_result = MathOperations.add_numbers(10, 5)\n",
        "print(f\"Sum: {sum_result}\")\n",
        "\n",
        "difference_result = MathOperations.subtract_numbers(10, 5)\n",
        "print(f\"Difference: {difference_result}\")"
      ],
      "metadata": {
        "colab": {
          "base_uri": "https://localhost:8080/"
        },
        "id": "yF6QognwWKfa",
        "outputId": "c497e383-d8b2-4bfa-88a5-608fb425fd7c"
      },
      "execution_count": 9,
      "outputs": [
        {
          "output_type": "stream",
          "name": "stdout",
          "text": [
            "Sum: 15\n",
            "Difference: 5\n"
          ]
        }
      ]
    },
    {
      "cell_type": "markdown",
      "source": [
        "8.  Implement a class Person with a class method to count the total number of persons created."
      ],
      "metadata": {
        "id": "3SoX2QkNXCwW"
      }
    },
    {
      "cell_type": "code",
      "source": [
        "class Person:\n",
        "    _person_count = 0\n",
        "\n",
        "    def __init__(self, name, age):\n",
        "        self.name = name\n",
        "        self.age = age\n",
        "        Person._person_count += 1\n",
        "\n",
        "    @classmethod\n",
        "    def get_person_count(cls):\n",
        "        return cls._person_count\n",
        "\n",
        "# Example usage\n",
        "person1 = Person(\"Alice\", 30)\n",
        "person2 = Person(\"Bob\", 25)\n",
        "person3 = Person(\"Charlie\", 40)\n",
        "\n",
        "print(f\"Total number of persons created: {Person.get_person_count()}\")"
      ],
      "metadata": {
        "colab": {
          "base_uri": "https://localhost:8080/"
        },
        "id": "AtgRkZO1W_WR",
        "outputId": "8a36a395-72c0-451b-d018-660bd622b71d"
      },
      "execution_count": 10,
      "outputs": [
        {
          "output_type": "stream",
          "name": "stdout",
          "text": [
            "Total number of persons created: 3\n"
          ]
        }
      ]
    },
    {
      "cell_type": "markdown",
      "source": [
        "9. Write a class Fraction with attributes numerator and denominator. Override the str method to display the\n",
        "fraction as \"numerator/denominator\"."
      ],
      "metadata": {
        "id": "Lj8vjlKjXKPO"
      }
    },
    {
      "cell_type": "code",
      "source": [
        "class Fraction:\n",
        "    def __init__(self, numerator, denominator):\n",
        "        self.numerator = numerator\n",
        "        self.denominator = denominator\n",
        "\n",
        "    def __str__(self):\n",
        "        return f\"{self.numerator}/{self.denominator}\"\n",
        "my_fraction = Fraction(3, 4)\n",
        "print(my_fraction)"
      ],
      "metadata": {
        "colab": {
          "base_uri": "https://localhost:8080/"
        },
        "id": "OBzIlWWkXJnB",
        "outputId": "917ab700-59d4-431b-85ea-1014c227b449"
      },
      "execution_count": 13,
      "outputs": [
        {
          "output_type": "stream",
          "name": "stdout",
          "text": [
            "3/4\n"
          ]
        }
      ]
    },
    {
      "cell_type": "markdown",
      "source": [
        "10.  Demonstrate operator overloading by creating a class Vector and overriding the add method to add two\n",
        "vectors."
      ],
      "metadata": {
        "id": "pjTcj3zyXcoX"
      }
    },
    {
      "cell_type": "code",
      "source": [
        "class Vector:\n",
        "    def __init__(self, x, y):\n",
        "\n",
        "        self.x = x\n",
        "        self.y = y\n",
        "\n",
        "    def __add__(self, other):\n",
        "\n",
        "        if isinstance(other, Vector):\n",
        "            return Vector(self.x + other.x, self.y + other.y)\n",
        "        else:\n",
        "            raise TypeError(\"Unsupported operand type for +: 'Vector' and '{}'\".format(type(other).__name__))\n",
        "\n",
        "    def __str__(self):\n",
        "\n",
        "        return f\"Vector({self.x}, {self.y})\"\n",
        "\n",
        "vector1 = Vector(1, 2)\n",
        "vector2 = Vector(3, 4)\n",
        "\n",
        "vector_sum = vector1 + vector2\n",
        "\n",
        "print(vector_sum)"
      ],
      "metadata": {
        "colab": {
          "base_uri": "https://localhost:8080/"
        },
        "id": "2jBDJBQUXRVq",
        "outputId": "69e00636-2674-4b23-f867-3c36f2e3950c"
      },
      "execution_count": 14,
      "outputs": [
        {
          "output_type": "stream",
          "name": "stdout",
          "text": [
            "Vector(4, 6)\n"
          ]
        }
      ]
    },
    {
      "cell_type": "markdown",
      "source": [
        "11.  Create a class Person with attributes name and age. Add a method greet() that prints \"Hello, my name is\n",
        "{name} and I am {age} years old.\""
      ],
      "metadata": {
        "id": "vpkma09cX06B"
      }
    },
    {
      "cell_type": "code",
      "source": [
        "class Person:\n",
        "    def __init__(self, name, age):\n",
        "\n",
        "        self.name = name\n",
        "        self.age = age\n",
        "\n",
        "    def greet(self):\n",
        "\n",
        "        print(f\"Hello, my name is {self.name} and I am {self.age} years old.\")\n",
        "\n",
        "\n",
        "person1 = Person(\"Aniket\", 30)\n",
        "\n",
        "person1.greet()\n",
        "\n",
        "person2 = Person(\"Aditya\", 25)\n",
        "\n",
        "person2.greet()"
      ],
      "metadata": {
        "colab": {
          "base_uri": "https://localhost:8080/"
        },
        "id": "s9QmstddX0Ec",
        "outputId": "d187967b-1de6-4100-e53e-07c66d14030f"
      },
      "execution_count": 16,
      "outputs": [
        {
          "output_type": "stream",
          "name": "stdout",
          "text": [
            "Hello, my name is Aniket and I am 30 years old.\n",
            "Hello, my name is Aditya and I am 25 years old.\n"
          ]
        }
      ]
    },
    {
      "cell_type": "markdown",
      "source": [
        "12.  Implement a class Student with attributes name and grades. Create a method average_grade() to compute\n",
        "the average of the grades."
      ],
      "metadata": {
        "id": "2Esur2kBYQZr"
      }
    },
    {
      "cell_type": "code",
      "source": [
        "class Student:\n",
        "    def __init__(self, name, grades=None):\n",
        "\n",
        "        self.name = name\n",
        "        self.grades = grades if grades is not None else []\n",
        "\n",
        "    def add_grade(self, grade):\n",
        "\n",
        "        self.grades.append(grade)\n",
        "\n",
        "    def average_grade(self):\n",
        "\n",
        "        if not self.grades:\n",
        "            return None\n",
        "        return sum(self.grades) / len(self.grades)\n",
        "\n",
        "student1 = Student(\"Aniket\", [85, 90, 78, 92])\n",
        "print(f\"{student1.name}'s average grade: {student1.average_grade()}\")\n",
        "\n",
        "student2 = Student(\"Aditya\")\n",
        "print(f\"{student2.name}'s average grade: {student2.average_grade()}\")\n",
        "\n",
        "student2.add_grade(70)\n",
        "student2.add_grade(80)\n",
        "print(f\"{student2.name}'s average grade: {student2.average_grade()}\")"
      ],
      "metadata": {
        "colab": {
          "base_uri": "https://localhost:8080/"
        },
        "id": "jTGl_NKSYLKQ",
        "outputId": "e8d6cb24-1648-4dce-c37c-f19ec1754947"
      },
      "execution_count": 18,
      "outputs": [
        {
          "output_type": "stream",
          "name": "stdout",
          "text": [
            "Aniket's average grade: 86.25\n",
            "Aditya's average grade: None\n",
            "Aditya's average grade: 75.0\n"
          ]
        }
      ]
    },
    {
      "cell_type": "markdown",
      "source": [
        "13. Create a class Rectangle with methods set_dimensions() to set the dimensions and area() to calculate the\n",
        "area."
      ],
      "metadata": {
        "id": "kcGaV1tQYz0l"
      }
    },
    {
      "cell_type": "code",
      "source": [
        "class Rectangle():\n",
        "    def __init__(self, l, w):\n",
        "        self.length = l\n",
        "        self.width  = w\n",
        "\n",
        "    def rectangle_area(self):\n",
        "        return self.length*self.width\n",
        "\n",
        "newRectangle = Rectangle(12, 10)\n",
        "print(newRectangle.rectangle_area())\n"
      ],
      "metadata": {
        "colab": {
          "base_uri": "https://localhost:8080/"
        },
        "id": "adhdf5DtYs5Y",
        "outputId": "32364893-49ce-420a-95e3-8908796c2e41"
      },
      "execution_count": 22,
      "outputs": [
        {
          "output_type": "stream",
          "name": "stdout",
          "text": [
            "120\n"
          ]
        }
      ]
    },
    {
      "cell_type": "markdown",
      "source": [
        "14. Create a class Employee with a method calculate_salary() that computes the salary based on hours worked\n",
        "and hourly rate. Create a derived class Manager that adds a bonus to the salary."
      ],
      "metadata": {
        "id": "d9wjDhd6ZXTv"
      }
    },
    {
      "cell_type": "code",
      "source": [
        "class Employee:\n",
        "    def __init__(self, hours_worked, hourly_rate):\n",
        "        self.hours_worked = hours_worked\n",
        "        self.hourly_rate = hourly_rate\n",
        "\n",
        "    def calculate_salary(self):\n",
        "        return self.hours_worked * self.hourly_rate\n",
        "\n",
        "\n",
        "class Manager(Employee):\n",
        "    def __init__(self, hours_worked, hourly_rate, bonus):\n",
        "        super().__init__(hours_worked, hourly_rate)\n",
        "        self.bonus = bonus\n",
        "\n",
        "    def calculate_salary(self):\n",
        "        employee_salary = super().calculate_salary()\n",
        "        return employee_salary + self.bonus\n",
        "\n",
        "employee = Employee(hours_worked=40, hourly_rate=25)\n",
        "print(f\"Employee salary: {employee.calculate_salary()}\")\n",
        "\n",
        "manager = Manager(hours_worked=45, hourly_rate=30, bonus=500)\n",
        "print(f\"Manager salary: {manager.calculate_salary()}\")"
      ],
      "metadata": {
        "colab": {
          "base_uri": "https://localhost:8080/"
        },
        "id": "0hSjQr-eZCI4",
        "outputId": "74b1e30c-7cf5-4dd6-8cc6-b01c70a0ca24"
      },
      "execution_count": 23,
      "outputs": [
        {
          "output_type": "stream",
          "name": "stdout",
          "text": [
            "Employee salary: 1000\n",
            "Manager salary: 1850\n"
          ]
        }
      ]
    },
    {
      "cell_type": "markdown",
      "source": [
        "15.  Create a class Product with attributes name, price, and quantity. Implement a method total_price() that\n",
        "calculates the total price of the product."
      ],
      "metadata": {
        "id": "0tg8q9jnZrnw"
      }
    },
    {
      "cell_type": "code",
      "source": [
        "class Product:\n",
        "    def __init__(self, name, price, quantity):\n",
        "        self.name = name\n",
        "        self.price = price\n",
        "        self.quantity = quantity\n",
        "\n",
        "    def total_price(self):\n",
        "        return self.price * self.quantity\n",
        "\n",
        "product1 = Product(\"Laptop\", 1200.00, 2)\n",
        "print(f\"Total price of {product1.name}: {product1.total_price()}\")"
      ],
      "metadata": {
        "colab": {
          "base_uri": "https://localhost:8080/"
        },
        "id": "ksAm0YqKZqTP",
        "outputId": "707e09cf-6797-42f2-9131-2178191a6dee"
      },
      "execution_count": 25,
      "outputs": [
        {
          "output_type": "stream",
          "name": "stdout",
          "text": [
            "Total price of Laptop: 2400.0\n"
          ]
        }
      ]
    },
    {
      "cell_type": "markdown",
      "source": [
        "16. Create a class Animal with an abstract method sound(). Create two derived classes Cow and Sheep that\n",
        "implement the sound() method."
      ],
      "metadata": {
        "id": "vkp8zbgwaG2_"
      }
    },
    {
      "cell_type": "code",
      "source": [
        "from abc import ABC, abstractmethod\n",
        "\n",
        "class Animal(ABC):\n",
        "    @abstractmethod\n",
        "    def sound(self):\n",
        "        pass\n",
        "\n",
        "class Cow(Animal):\n",
        "    def sound(self):\n",
        "        return \"Moo\"\n",
        "\n",
        "class Sheep(Animal):\n",
        "    def sound(self):\n",
        "        return \"Baa\"\n",
        "\n",
        "cow = Cow()\n",
        "print(f\"Cow says: {cow.sound()}\")\n",
        "\n",
        "sheep = Sheep()\n",
        "print(f\"Sheep says: {sheep.sound()}\")"
      ],
      "metadata": {
        "colab": {
          "base_uri": "https://localhost:8080/"
        },
        "id": "TYx2L6BzaEhP",
        "outputId": "0e1c7781-4052-4dfb-cd16-a2519026ea3d"
      },
      "execution_count": 26,
      "outputs": [
        {
          "output_type": "stream",
          "name": "stdout",
          "text": [
            "Cow says: Moo\n",
            "Sheep says: Baa\n"
          ]
        }
      ]
    },
    {
      "cell_type": "markdown",
      "source": [
        "17. Create a class Book with attributes title, author, and year_published. Add a method get_book_info() that\n",
        "returns a formatted string with the book's details."
      ],
      "metadata": {
        "id": "JnVWy9cXaO9T"
      }
    },
    {
      "cell_type": "code",
      "source": [
        "class Book:\n",
        "    def __init__(self, title, author, genre, year_published):\n",
        "        self.title = title\n",
        "        self.author = author\n",
        "        self.genre = genre\n",
        "        self.year_published = year_published\n",
        "\n",
        "    def display_book_info(self):\n",
        "        print(f\"Title: {self.title}\")\n",
        "        print(f\"Author: {self.author}\")\n",
        "        print(f\"Genre: {self.genre}\")\n",
        "        print(f\"Year Published: {self.year_published}\")\n",
        "my_book = Book(\"To Kill a Mockingbird\", \"Harper Lee\", \"Fiction\", 1960)\n",
        "my_book.display_book_info()"
      ],
      "metadata": {
        "colab": {
          "base_uri": "https://localhost:8080/"
        },
        "id": "1NaoI-VlaOS6",
        "outputId": "c4da0fb1-a4f0-483d-9a61-c2708a1c99c6"
      },
      "execution_count": 30,
      "outputs": [
        {
          "output_type": "stream",
          "name": "stdout",
          "text": [
            "Title: To Kill a Mockingbird\n",
            "Author: Harper Lee\n",
            "Genre: Fiction\n",
            "Year Published: 1960\n"
          ]
        }
      ]
    },
    {
      "cell_type": "markdown",
      "source": [
        "18. Create a class House with attributes address and price. Create a derived class Mansion that adds an\n",
        "attribute number_of_rooms."
      ],
      "metadata": {
        "id": "RedkfA7Pbm64"
      }
    },
    {
      "cell_type": "code",
      "source": [
        "class House:\n",
        "    def __init__(self, address, price):\n",
        "        self.address = \"Navi Mumbai\"\n",
        "        self.price = \"2000\"\n",
        "    def display_info(self):\n",
        "        print(f\"Address: {self.address}, Price: {self.price:,.2f}\")\n",
        "class Mansion(House):\n",
        "    def __init__(self, address, price, number_of_rooms):\n",
        "        super().__init__(address, price)\n",
        "        self.number_of_rooms = \"05\"\n",
        "    def display_info(self):\n",
        "        super().display_info()\n",
        "        print(f\"Number of Rooms: {self.number_of_rooms}\")"
      ],
      "metadata": {
        "id": "VB13JkTnaaSI"
      },
      "execution_count": 35,
      "outputs": []
    },
    {
      "cell_type": "code",
      "source": [],
      "metadata": {
        "id": "rmVKmX7hb3sm"
      },
      "execution_count": null,
      "outputs": []
    }
  ]
}
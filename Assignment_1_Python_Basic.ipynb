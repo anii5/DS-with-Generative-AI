{
  "nbformat": 4,
  "nbformat_minor": 0,
  "metadata": {
    "colab": {
      "provenance": []
    },
    "kernelspec": {
      "name": "python3",
      "display_name": "Python 3"
    },
    "language_info": {
      "name": "python"
    }
  },
  "cells": [
    {
      "cell_type": "markdown",
      "source": [
        "# Python Basic"
      ],
      "metadata": {
        "id": "AE1lK8P-exi_"
      }
    },
    {
      "cell_type": "markdown",
      "source": [
        "1. What is Python, and why is it popular?\n",
        "  - Python is programming language. It is a popular, versatile, and high-level programming language known for its readability and simplicity\n",
        "  - Its is popular because it is easy to use and have extensive libraries for Data Scientist.\n",
        "  - Python have a very strong community.\n",
        "  - Python is a open source and cost effective."
      ],
      "metadata": {
        "id": "gl7UIecV4rFt"
      }
    },
    {
      "cell_type": "markdown",
      "source": [
        "2. What is an interpreter in Python?\n",
        "  - Interpreter is a program that reads and executes Python code line by line.\n",
        "  - Interpreter converts the source code or an high level language into intermediate code i.e. Machine Lerning Language"
      ],
      "metadata": {
        "id": "dmHrMEYo6Jha"
      }
    },
    {
      "cell_type": "markdown",
      "source": [
        "3. What are pre-defined keywords in Python?\n",
        "  - Predefined keywords are reserved words used in Python that have special meanings to the compiler. They are used to define the syntax and structure of the Python language. We cannot use a keyword as a variable name, function name, or any other identifier."
      ],
      "metadata": {
        "id": "BoAVukgE7NwQ"
      }
    },
    {
      "cell_type": "markdown",
      "source": [
        "4.  Can keywords be used as variable names?\n",
        "  - No, we cannot use a keyword as a variable name, function name, or any other identifier."
      ],
      "metadata": {
        "id": "LJyzpIE978SW"
      }
    },
    {
      "cell_type": "markdown",
      "source": [
        "5.  What is mutability in Python?\n",
        "  - In Python, mutability refers to whether an object's value can be changed after it is created. Mutable objects can be modified in place, while immutable objects cannot.  "
      ],
      "metadata": {
        "id": "qip69UxD8P6c"
      }
    },
    {
      "cell_type": "markdown",
      "source": [
        "6. Why are lists mutable, but tuples are immutable?\n",
        "  -  lists are mutable because we can change the order of items in a list or reassign an item in a list. When the bracket operator appears on the left side of an assignment, it identifies the element of the list that will be assigned whereas tuples use parentheses instead of square brackets, and the items in tuples cannot be modified"
      ],
      "metadata": {
        "id": "pakumD6Q8y4z"
      }
    },
    {
      "cell_type": "markdown",
      "source": [
        "7. What is the difference between “==” and “is” operators in Python?\n",
        "  - **Equality Operators (==)** checks is the value of the two objects are equal or not. It compares the content or the dada held by the objects and it returns true if the value are the same, regardless of whether they are the same object in memory\n",
        "\n",
        "  - **Identity Operator (is)** Checks if two variables reference the same object in memory. It determines whether two references point to the same memory location and returns True only if the variables refer to the exact same object\n"
      ],
      "metadata": {
        "id": "AtXI5CQ7JMMG"
      }
    },
    {
      "cell_type": "markdown",
      "source": [
        "8. What are logical operators in Python?\n",
        "  - Logical operators in Python are used to combine or modify boolean expressions (True or False). These operators are fundamental for controlling program flow and making decisions based on multiple conditions. Python has three main logical operators: **and, or and not**"
      ],
      "metadata": {
        "id": "0PMOyr5kKfCG"
      }
    },
    {
      "cell_type": "markdown",
      "source": [
        "9. What is type casting in Python?\n",
        "  - Type casting, also known as type conversion, is the process of changing the data type of a variable or value. In Python, this is done using built-in functions.\n",
        "    - There are two main types of type casting:\n",
        "      - **Implicit Type Casting**\n",
        "      - **Explicit Type Casting**"
      ],
      "metadata": {
        "id": "FIXuePoZLW-7"
      }
    },
    {
      "cell_type": "markdown",
      "source": [
        "10. What is the difference between implicit and explicit type casting?\n",
        "  - **Implicit Type Casting:**This occurs automatically when Python performs an operation involving different data types. Python will attempt to convert one of the operands to match the other. However, this can cause unexpected results if not handled carefully.\n",
        "\n",
        "    - **Explicit Type Casting:**This is done manually by the programmer using built-in functions. It allows you to explicitly convert one data type to another."
      ],
      "metadata": {
        "id": "zCsgWS1XMJSk"
      }
    },
    {
      "cell_type": "markdown",
      "source": [
        "11. What is the purpose of conditional statements in Python?\n",
        "  - Conditional statements in Python are used to control the flow of a program based on whether a condition is true or false. They allow programs to make decisions and execute different blocks of code depending on the situation.\n",
        "      - The primary types of conditional statements in Python are:\n",
        "        - if\n",
        "        - else\n",
        "        - elif"
      ],
      "metadata": {
        "id": "8oIqWtB2MhiD"
      }
    },
    {
      "cell_type": "markdown",
      "source": [
        "12. How does the elif statement work?\n",
        "  - The elif statement in Python is used to check multiple conditions sequentially, acting as an \"else if.\""
      ],
      "metadata": {
        "id": "uu_CEg_YNn-V"
      }
    },
    {
      "cell_type": "markdown",
      "source": [
        "13. What is the difference between for and while loops?\n",
        "  - A for loop in Python is used for repetition of a specified sequence of elements. It maybe a list, a tuple, a set, a dictionary or even a string.\n",
        "  - While loop is the control flow statement that repeats a block of code till the time a specified condition is 'True'. It keeps the iteration going until the condition is 'True' and as soon as the condition is 'False', the while loop in Python is terminated and the next line of code is executed which is just ahead of it."
      ],
      "metadata": {
        "id": "zXVnL_SUOAjp"
      }
    },
    {
      "cell_type": "markdown",
      "source": [
        "14. Describe a scenario where a while loop is more suitable than a for loop.\n",
        "  - A while loop is more suitable when we don't know the number of iterations in advance."
      ],
      "metadata": {
        "id": "LQ_eyqF4Uljk"
      }
    },
    {
      "cell_type": "markdown",
      "source": [
        "# Practical Questions"
      ],
      "metadata": {
        "id": "d6I_OLeKX2Gn"
      }
    },
    {
      "cell_type": "markdown",
      "source": [
        "1. Write a Python program to print \"Hello, World!\"\n"
      ],
      "metadata": {
        "id": "qMNrDTvAYGF1"
      }
    },
    {
      "cell_type": "code",
      "source": [
        "a = \"Hello World\"\n",
        "print (a)"
      ],
      "metadata": {
        "id": "9L1misMAfHQC",
        "colab": {
          "base_uri": "https://localhost:8080/"
        },
        "outputId": "8b80e43b-3bf0-4ee5-ab01-441b0a97a6af"
      },
      "execution_count": null,
      "outputs": [
        {
          "output_type": "stream",
          "name": "stdout",
          "text": [
            "Hello World\n"
          ]
        }
      ]
    },
    {
      "cell_type": "markdown",
      "source": [
        "2. Write a Python program that displays your name and age."
      ],
      "metadata": {
        "id": "rcT24aV6YxFN"
      }
    },
    {
      "cell_type": "code",
      "source": [
        "name = \"Aniket Apurv\"\n",
        "age = 27\n",
        "print(\"My name is\", name, \"and I am\", age, \"years old.\")"
      ],
      "metadata": {
        "colab": {
          "base_uri": "https://localhost:8080/"
        },
        "id": "w-O5a8zAYr65",
        "outputId": "f92acffd-3ece-411b-fb43-5c3d6c0c0e50"
      },
      "execution_count": null,
      "outputs": [
        {
          "output_type": "stream",
          "name": "stdout",
          "text": [
            "My name is Aniket Apurv and I am 27 years old.\n"
          ]
        }
      ]
    },
    {
      "cell_type": "markdown",
      "source": [
        "3. Write code to print all the pre-defined keywords in Python using the keyword library."
      ],
      "metadata": {
        "id": "QaM_24a-ZVvk"
      }
    },
    {
      "cell_type": "code",
      "source": [
        "import keyword\n",
        "print(keyword.kwlist)"
      ],
      "metadata": {
        "colab": {
          "base_uri": "https://localhost:8080/"
        },
        "id": "6FOKkXOgZIG5",
        "outputId": "1ae9e127-6b4e-41b1-d410-92ff2d777d8f"
      },
      "execution_count": null,
      "outputs": [
        {
          "output_type": "stream",
          "name": "stdout",
          "text": [
            "['False', 'None', 'True', 'and', 'as', 'assert', 'async', 'await', 'break', 'class', 'continue', 'def', 'del', 'elif', 'else', 'except', 'finally', 'for', 'from', 'global', 'if', 'import', 'in', 'is', 'lambda', 'nonlocal', 'not', 'or', 'pass', 'raise', 'return', 'try', 'while', 'with', 'yield']\n"
          ]
        }
      ]
    },
    {
      "cell_type": "markdown",
      "source": [
        "4. Write a program that checks if a given word is a Python keyword."
      ],
      "metadata": {
        "id": "iFWO5GQEaHkY"
      }
    },
    {
      "cell_type": "code",
      "source": [
        "import keyword\n",
        "a = 'if'\n",
        "if keyword.iskeyword(a):\n",
        "    print(f\"'{a}' is a Python keyword.\")\n",
        "else:\n",
        "    print(f\"'{a}' is not a Python keyword.\")"
      ],
      "metadata": {
        "colab": {
          "base_uri": "https://localhost:8080/"
        },
        "id": "jlmm-z3hZlP2",
        "outputId": "0952ce0c-68f8-48c1-9650-638243c16079"
      },
      "execution_count": null,
      "outputs": [
        {
          "output_type": "stream",
          "name": "stdout",
          "text": [
            "'if' is a Python keyword.\n"
          ]
        }
      ]
    },
    {
      "cell_type": "markdown",
      "source": [
        "5.  Create a list and tuple in Python, and demonstrate how attempting to change an element works differently for each."
      ],
      "metadata": {
        "id": "i-xFp6gCbNNP"
      }
    },
    {
      "cell_type": "code",
      "source": [
        "list = [1, 2, 3]\n",
        "print(list)\n",
        "list[1] = 4\n",
        "print(list)"
      ],
      "metadata": {
        "id": "FxJFkYW4atzG",
        "colab": {
          "base_uri": "https://localhost:8080/"
        },
        "outputId": "f861ac42-a3cf-486a-aca4-ded80b8158e0"
      },
      "execution_count": 22,
      "outputs": [
        {
          "output_type": "stream",
          "name": "stdout",
          "text": [
            "[1, 2, 3]\n",
            "[1, 4, 3]\n"
          ]
        }
      ]
    },
    {
      "cell_type": "code",
      "source": [
        "tuple = (1, 2, 3)\n",
        "print(tuple)\n",
        "tuple[1] = 4\n",
        "print(tuple)"
      ],
      "metadata": {
        "colab": {
          "base_uri": "https://localhost:8080/",
          "height": 219
        },
        "id": "_I2vaU7umC3V",
        "outputId": "20c57b97-e751-4b5d-9b58-956447ad5bf5"
      },
      "execution_count": 23,
      "outputs": [
        {
          "output_type": "stream",
          "name": "stdout",
          "text": [
            "(1, 2, 3)\n"
          ]
        },
        {
          "output_type": "error",
          "ename": "TypeError",
          "evalue": "'tuple' object does not support item assignment",
          "traceback": [
            "\u001b[0;31m---------------------------------------------------------------------------\u001b[0m",
            "\u001b[0;31mTypeError\u001b[0m                                 Traceback (most recent call last)",
            "\u001b[0;32m<ipython-input-23-8a3549790984>\u001b[0m in \u001b[0;36m<cell line: 0>\u001b[0;34m()\u001b[0m\n\u001b[1;32m      1\u001b[0m \u001b[0mtuple\u001b[0m \u001b[0;34m=\u001b[0m \u001b[0;34m(\u001b[0m\u001b[0;36m1\u001b[0m\u001b[0;34m,\u001b[0m \u001b[0;36m2\u001b[0m\u001b[0;34m,\u001b[0m \u001b[0;36m3\u001b[0m\u001b[0;34m)\u001b[0m\u001b[0;34m\u001b[0m\u001b[0;34m\u001b[0m\u001b[0m\n\u001b[1;32m      2\u001b[0m \u001b[0mprint\u001b[0m\u001b[0;34m(\u001b[0m\u001b[0mtuple\u001b[0m\u001b[0;34m)\u001b[0m\u001b[0;34m\u001b[0m\u001b[0;34m\u001b[0m\u001b[0m\n\u001b[0;32m----> 3\u001b[0;31m \u001b[0mtuple\u001b[0m\u001b[0;34m[\u001b[0m\u001b[0;36m1\u001b[0m\u001b[0;34m]\u001b[0m \u001b[0;34m=\u001b[0m \u001b[0;36m4\u001b[0m\u001b[0;34m\u001b[0m\u001b[0;34m\u001b[0m\u001b[0m\n\u001b[0m\u001b[1;32m      4\u001b[0m \u001b[0mprint\u001b[0m\u001b[0;34m(\u001b[0m\u001b[0mtuple\u001b[0m\u001b[0;34m)\u001b[0m\u001b[0;34m\u001b[0m\u001b[0;34m\u001b[0m\u001b[0m\n",
            "\u001b[0;31mTypeError\u001b[0m: 'tuple' object does not support item assignment"
          ]
        }
      ]
    },
    {
      "cell_type": "markdown",
      "source": [
        "6. Write a function to demonstrate the behavior of mutable and immutable arguments."
      ],
      "metadata": {
        "id": "iyroWnROk3c7"
      }
    },
    {
      "cell_type": "code",
      "source": [
        "list = [1, 2, 3]\n",
        "list.append(4)\n",
        "print(list)\n",
        "\n",
        "list.insert(1, 5)\n",
        "print(list)"
      ],
      "metadata": {
        "colab": {
          "base_uri": "https://localhost:8080/"
        },
        "id": "9Q2pi8pAgIwX",
        "outputId": "2c9528cb-9ac2-4ab7-9ca3-bf4106ce67f2"
      },
      "execution_count": 19,
      "outputs": [
        {
          "output_type": "stream",
          "name": "stdout",
          "text": [
            "[1, 2, 3, 4]\n",
            "[1, 5, 2, 3, 4]\n"
          ]
        }
      ]
    },
    {
      "cell_type": "code",
      "source": [
        "tuple = (0, 1, 2, 3)\n",
        "tuple[0] = 4\n",
        "print(tuple)"
      ],
      "metadata": {
        "colab": {
          "base_uri": "https://localhost:8080/",
          "height": 182
        },
        "id": "80K2-rd4lkJa",
        "outputId": "4aebae16-0600-4dc6-aaee-09eda4e37719"
      },
      "execution_count": 20,
      "outputs": [
        {
          "output_type": "error",
          "ename": "TypeError",
          "evalue": "'tuple' object does not support item assignment",
          "traceback": [
            "\u001b[0;31m---------------------------------------------------------------------------\u001b[0m",
            "\u001b[0;31mTypeError\u001b[0m                                 Traceback (most recent call last)",
            "\u001b[0;32m<ipython-input-20-1dc072c19cdb>\u001b[0m in \u001b[0;36m<cell line: 0>\u001b[0;34m()\u001b[0m\n\u001b[1;32m      1\u001b[0m \u001b[0mtuple\u001b[0m \u001b[0;34m=\u001b[0m \u001b[0;34m(\u001b[0m\u001b[0;36m0\u001b[0m\u001b[0;34m,\u001b[0m \u001b[0;36m1\u001b[0m\u001b[0;34m,\u001b[0m \u001b[0;36m2\u001b[0m\u001b[0;34m,\u001b[0m \u001b[0;36m3\u001b[0m\u001b[0;34m)\u001b[0m\u001b[0;34m\u001b[0m\u001b[0;34m\u001b[0m\u001b[0m\n\u001b[0;32m----> 2\u001b[0;31m \u001b[0mtuple\u001b[0m\u001b[0;34m[\u001b[0m\u001b[0;36m0\u001b[0m\u001b[0;34m]\u001b[0m \u001b[0;34m=\u001b[0m \u001b[0;36m4\u001b[0m\u001b[0;34m\u001b[0m\u001b[0;34m\u001b[0m\u001b[0m\n\u001b[0m\u001b[1;32m      3\u001b[0m \u001b[0mprint\u001b[0m\u001b[0;34m(\u001b[0m\u001b[0mtuple\u001b[0m\u001b[0;34m)\u001b[0m\u001b[0;34m\u001b[0m\u001b[0;34m\u001b[0m\u001b[0m\n",
            "\u001b[0;31mTypeError\u001b[0m: 'tuple' object does not support item assignment"
          ]
        }
      ]
    },
    {
      "cell_type": "markdown",
      "source": [
        "7.  Write a program that performs basic arithmetic operations on two user-input numbers."
      ],
      "metadata": {
        "id": "2U7eR4UOmIwp"
      }
    },
    {
      "cell_type": "code",
      "source": [
        "num1 = float(input(\"Enter the first number: \"))\n",
        "num2 = float(input(\"Enter the second number: \"))\n",
        "\n",
        "addition = num1 + num2\n",
        "subtraction = num1 - num2\n",
        "multiplication = num1 * num2\n",
        "division = num1 / num2\n",
        "\n",
        "print(\"\\nResults:\")\n",
        "\n",
        "print(\"Addition:\", addition)\n",
        "print(\"Subtraction:\", subtraction)\n",
        "print(\"Multiplication:\", multiplication)\n",
        "print(\"Division:\", division)"
      ],
      "metadata": {
        "colab": {
          "base_uri": "https://localhost:8080/"
        },
        "id": "ed2fer7blyvt",
        "outputId": "2bc44b34-0212-4395-b89a-b3e7947a30d1"
      },
      "execution_count": 26,
      "outputs": [
        {
          "output_type": "stream",
          "name": "stdout",
          "text": [
            "Enter the first number: 10\n",
            "Enter the second number: 6\n",
            "\n",
            "Results:\n",
            "Addition: 16.0\n",
            "Subtraction: 4.0\n",
            "Multiplication: 60.0\n",
            "Division: 1.6666666666666667\n"
          ]
        }
      ]
    },
    {
      "cell_type": "markdown",
      "source": [
        "8.  Write a program to demonstrate the use of logical operators."
      ],
      "metadata": {
        "id": "5EgHk_lFo7nJ"
      }
    },
    {
      "cell_type": "code",
      "source": [
        "x = 4\n",
        "y = 8\n",
        "if x > 0 and y > 0:\n",
        "    print(\"Both x and y are positive\")\n",
        "\n",
        "a = -10\n",
        "b = 15\n",
        "if a > 0 or b > 0:\n",
        "    print(\"Either a or b is positive\")\n",
        "\n",
        "z = 5\n",
        "if not z:\n",
        "    print(\"z is zero\")\n",
        "else:\n",
        "    print(\"z is not zero\")\n",
        "\n",
        "age = 25\n",
        "Voter = True\n",
        "if age >= 18 and Voter:\n",
        "    print(\"Eligible to Vote\")"
      ],
      "metadata": {
        "colab": {
          "base_uri": "https://localhost:8080/"
        },
        "id": "wGvmA3Htm5op",
        "outputId": "0b5ee1de-d6c3-47d7-aa9c-ed6f35300b75"
      },
      "execution_count": 29,
      "outputs": [
        {
          "output_type": "stream",
          "name": "stdout",
          "text": [
            "Both x and y are positive\n",
            "Either a or b is positive\n",
            "z is not zero\n",
            "Eligible to Vote\n"
          ]
        }
      ]
    },
    {
      "cell_type": "markdown",
      "source": [
        "9. Write a Python program to convert user input from string to integer, float, and boolean types."
      ],
      "metadata": {
        "id": "wKxNU776qIp8"
      }
    },
    {
      "cell_type": "code",
      "source": [
        "def convert_input():\n",
        "    string_input = input(\"Enter a string: \")\n",
        "\n",
        "    try:\n",
        "        float_value = float(string_input)\n",
        "        print(f\"Float: {float_value}\")\n",
        "    except ValueError:\n",
        "        print(\"Not a valid float\")\n",
        "\n",
        "    try:\n",
        "        int_value = int(string_input)\n",
        "        print(f\"Integer: {int_value}\")\n",
        "    except ValueError:\n",
        "        print(\"Not a valid integer\")\n",
        "\n",
        "    bool_value = bool(string_input)\n",
        "    print(f\"Boolean: {bool_value}\")\n",
        "\n",
        "convert_input()"
      ],
      "metadata": {
        "colab": {
          "base_uri": "https://localhost:8080/"
        },
        "id": "TRJ2P1NNqk0m",
        "outputId": "316de46b-7691-4667-d333-251dc3f2b22b"
      },
      "execution_count": 36,
      "outputs": [
        {
          "output_type": "stream",
          "name": "stdout",
          "text": [
            "Enter a string: Aniket\n",
            "Not a valid float\n",
            "Not a valid integer\n",
            "Boolean: True\n"
          ]
        }
      ]
    },
    {
      "cell_type": "code",
      "source": [
        "def convert_input():\n",
        "    string_input = input(\"Enter a string: \")\n",
        "\n",
        "    try:\n",
        "        float_value = float(string_input)\n",
        "        print(f\"Float: {float_value}\")\n",
        "    except ValueError:\n",
        "        print(\"Not a valid float\")\n",
        "\n",
        "    try:\n",
        "        int_value = int(string_input)\n",
        "        print(f\"Integer: {int_value}\")\n",
        "    except ValueError:\n",
        "        print(\"Not a valid integer\")\n",
        "\n",
        "    bool_value = bool(string_input)\n",
        "    print(f\"Boolean: {bool_value}\")\n",
        "\n",
        "convert_input()"
      ],
      "metadata": {
        "colab": {
          "base_uri": "https://localhost:8080/"
        },
        "id": "91FVVtY9qsqs",
        "outputId": "bdf7dbed-9633-416f-e607-222445fdec58"
      },
      "execution_count": 37,
      "outputs": [
        {
          "output_type": "stream",
          "name": "stdout",
          "text": [
            "Enter a string: 500\n",
            "Float: 500.0\n",
            "Integer: 500\n",
            "Boolean: True\n"
          ]
        }
      ]
    },
    {
      "cell_type": "markdown",
      "source": [
        "10.  Write code to demonstrate type casting with list elements."
      ],
      "metadata": {
        "id": "5B385INNrW4l"
      }
    },
    {
      "cell_type": "code",
      "source": [
        "a = [1,2,5,8,9,7]\n",
        "b = [[1,2,3], [6,5,4], [7,8,9]]\n",
        "\n",
        "x = [str(x) for x in a]\n",
        "y = [[str(x) for x in sub] for sub in b]\n",
        "\n",
        "print(x)\n",
        "print(y)"
      ],
      "metadata": {
        "colab": {
          "base_uri": "https://localhost:8080/"
        },
        "id": "s38L2fHTrTVd",
        "outputId": "eb998da8-21f6-4e97-86a3-e69f8992aacc"
      },
      "execution_count": 44,
      "outputs": [
        {
          "output_type": "stream",
          "name": "stdout",
          "text": [
            "['1', '2', '5', '8', '9', '7']\n",
            "[['1', '2', '3'], ['6', '5', '4'], ['7', '8', '9']]\n"
          ]
        }
      ]
    },
    {
      "cell_type": "markdown",
      "source": [
        "11.  Write a program that checks if a number is positive, negative, or zero."
      ],
      "metadata": {
        "id": "Jlrs6c4Jtfqm"
      }
    },
    {
      "cell_type": "code",
      "source": [
        "number = int(input(\"Enter a number : \"))\n",
        "\n",
        "if number>0:\n",
        "  print(number, \"is positive.\")\n",
        "elif number<0:\n",
        "  print(number, \"is negative.\")\n",
        "else:\n",
        "  print(\"Number is 0.\")"
      ],
      "metadata": {
        "colab": {
          "base_uri": "https://localhost:8080/"
        },
        "id": "rR0Zm6Mrrx5n",
        "outputId": "c24f7543-4966-4f89-f3eb-c334f7306c9a"
      },
      "execution_count": 48,
      "outputs": [
        {
          "output_type": "stream",
          "name": "stdout",
          "text": [
            "Enter a number : 120\n",
            "120 is positive.\n"
          ]
        }
      ]
    },
    {
      "cell_type": "markdown",
      "source": [
        "12. Write a for loop to print numbers from 1 to 10."
      ],
      "metadata": {
        "id": "BWEMguHJt694"
      }
    },
    {
      "cell_type": "code",
      "source": [
        "for i in range(1, 11):\n",
        "    print(i)"
      ],
      "metadata": {
        "colab": {
          "base_uri": "https://localhost:8080/"
        },
        "id": "l3U87zent0Eq",
        "outputId": "625fdad3-fed0-489b-c19e-4ac18b8e90f4"
      },
      "execution_count": 49,
      "outputs": [
        {
          "output_type": "stream",
          "name": "stdout",
          "text": [
            "1\n",
            "2\n",
            "3\n",
            "4\n",
            "5\n",
            "6\n",
            "7\n",
            "8\n",
            "9\n",
            "10\n"
          ]
        }
      ]
    },
    {
      "cell_type": "markdown",
      "source": [
        "13. Write a Python program to find the sum of all even numbers between 1 and 50."
      ],
      "metadata": {
        "id": "Ijrw10MDuLh7"
      }
    },
    {
      "cell_type": "code",
      "source": [
        "sum = 0\n",
        "for num in range(2, 51, 2):\n",
        "    sum += num\n",
        "print(\"The sum of even numbers between 1 and 50 is:\", sum)"
      ],
      "metadata": {
        "colab": {
          "base_uri": "https://localhost:8080/"
        },
        "id": "yQDqhyJXuJYO",
        "outputId": "ad155474-2777-4b89-8b79-aa14c6730ff5"
      },
      "execution_count": 50,
      "outputs": [
        {
          "output_type": "stream",
          "name": "stdout",
          "text": [
            "The sum of even numbers between 1 and 50 is: 650\n"
          ]
        }
      ]
    },
    {
      "cell_type": "markdown",
      "source": [
        "14. Write a program to reverse a string using a while loop."
      ],
      "metadata": {
        "id": "wOM0hXPmuutT"
      }
    },
    {
      "cell_type": "code",
      "source": [
        "def reverse_string(a):\n",
        "    reversed_a = \"\"\n",
        "    length = len(a) - 1\n",
        "    while length >= 0:\n",
        "        reversed_a += a[length]\n",
        "        length -= 1\n",
        "    return reversed_a\n",
        "\n",
        "input_string = \"Aniket\"\n",
        "reversed_string = reverse_string(input_string)\n",
        "print(\"Original String:\", input_string)\n",
        "print(\"Reversed String:\", reversed_string)"
      ],
      "metadata": {
        "colab": {
          "base_uri": "https://localhost:8080/"
        },
        "id": "krW9UdAfulD-",
        "outputId": "85c541fc-f214-4d27-9066-74cc587ab0aa"
      },
      "execution_count": 60,
      "outputs": [
        {
          "output_type": "stream",
          "name": "stdout",
          "text": [
            "Original String: Aniket\n",
            "Reversed String: tekinA\n"
          ]
        }
      ]
    },
    {
      "cell_type": "markdown",
      "source": [
        "15. Write a Python program to calculate the factorial of a number provided by the user using a while loop."
      ],
      "metadata": {
        "id": "QTYT7ypXwNlD"
      }
    },
    {
      "cell_type": "code",
      "source": [
        "n = int(input(\"Enter any number: \"))\n",
        "\n",
        "f = 1\n",
        "while n >= 1:\n",
        "    f *= n\n",
        "    n -= 1\n",
        "\n",
        "print(\"Factorial is\", f)"
      ],
      "metadata": {
        "colab": {
          "base_uri": "https://localhost:8080/"
        },
        "id": "iSgFmcOsvMFF",
        "outputId": "888608d6-3034-4e8d-c074-d7860add4383"
      },
      "execution_count": 62,
      "outputs": [
        {
          "output_type": "stream",
          "name": "stdout",
          "text": [
            "Enter any number: 5\n",
            "Factorial is 120\n"
          ]
        }
      ]
    },
    {
      "cell_type": "code",
      "source": [],
      "metadata": {
        "id": "in4jNjJqw0kf"
      },
      "execution_count": null,
      "outputs": []
    }
  ]
}
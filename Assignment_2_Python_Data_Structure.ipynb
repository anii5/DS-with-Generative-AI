{
  "nbformat": 4,
  "nbformat_minor": 0,
  "metadata": {
    "colab": {
      "provenance": []
    },
    "kernelspec": {
      "name": "python3",
      "display_name": "Python 3"
    },
    "language_info": {
      "name": "python"
    }
  },
  "cells": [
    {
      "cell_type": "markdown",
      "source": [
        "# Python - Data Structure"
      ],
      "metadata": {
        "id": "kZN6MZ71peS6"
      }
    },
    {
      "cell_type": "markdown",
      "source": [
        "1. What are data structures, and why are they important?\n",
        "  - Data structures are fundamental ways of organizing and storing data for efficient access and manipulation within computer programs. They are important because they enable efficient algorithms, improve code readability, and make data management more effective.\n",
        "\n",
        "  - Data Structures are important as:\n",
        "    - Efficient Algorithms\n",
        "    - Code Readability and Maintainability\n",
        "    - Data Management\n",
        "    - Performance Optimization\n",
        "    - Foundation for Other Concepts\n"
      ],
      "metadata": {
        "id": "4Ma3TpsOIb54"
      }
    },
    {
      "cell_type": "markdown",
      "source": [
        "2.  Explain the difference between mutable and immutable data types with examples.\n",
        "  - Mutable data types are those that can be modified after their creation, while immutable data types cannot be changed once they are created. Lists and dictionaries are examples of mutable data types, whereas strings and tuples are examples of immutable data types.\n",
        "  "
      ],
      "metadata": {
        "id": "6AMAZlmLixBl"
      }
    },
    {
      "cell_type": "markdown",
      "source": [
        "3. What are the main differences between lists and tuples in Python?\n",
        "  - Lists and tuples are both used to store sequences of items in Python, but they differ significantly in their mutability and usage.\n",
        "    - Mutability:\n",
        "      - Lists are mutable, meaning their contents can be changed after creation. You can add, remove, or modify elements within a list.\n",
        "      - Tuples are immutable, meaning their contents cannot be changed after creation. Once a tuple is defined, it remains fixed.\n",
        "    \n",
        "    - Use Cases:\n",
        "      - Lists are suitable for dynamic collections where elements need to be added, removed, or modified frequently.\n",
        "      - Tuples are ideal for fixed data that should not be changed, such as representing records or constants."
      ],
      "metadata": {
        "id": "ACjxZDH-ks4x"
      }
    },
    {
      "cell_type": "markdown",
      "source": [
        "4. Describe how dictionaries store data.\n",
        "  - Dictionaries are unordered collections of data and are represented with curly brackets { } . Like lists, dictionaries are mutable(changeable) and indexed. With dictionaries, data is stored in a key:value format."
      ],
      "metadata": {
        "id": "ll0AikuUlSHE"
      }
    },
    {
      "cell_type": "markdown",
      "source": [
        "5.  Why might you use a set instead of a list in Python?\n",
        "  - Sets and lists are both used to store collections of items in Python, but they have different characteristics that make them suitable for different situations.\n",
        "      - Uniqueness of Elements\n",
        "        - Sets only store unique elements. If you try to add a duplicate, it will be ignored.\n",
        "        - Lists, on the other hand, allow duplicate elements.\n",
        "      - Unordered Collection\n",
        "        - Sets are unordered collections. This means that the elements do not have a specific position, and you cannot access them using an index.\n",
        "        - Lists are ordered, and elements are stored in the order they are added, allowing access by index.\n",
        "      - Mutability\n",
        "        - Both lists and sets are mutable, meaning their contents can be changed after creation. However, set elements themselves must be immutable (e.g., numbers, strings, tuples)."
      ],
      "metadata": {
        "id": "TZnjLFvjlgrr"
      }
    },
    {
      "cell_type": "markdown",
      "source": [
        "6. What is a string in Python, and how is it different from a list?\n",
        "  - A string is a sequence of characters. A list a sequence of values which can be characters, integers or even another list (referred to as a nested list). A dictionary is a more general version of a list and is made up a set of keys and values where there is a mapping between a given key and its corresponding value.\n",
        "  - Strings are immutable, designated by parenthesis and consist of only one data type, the \"string\". Lists are mutable, designated by brackets and consist of one or more items of many different data types; such as strings, integers, floats, dictionaries, tuples, sets and even other lists."
      ],
      "metadata": {
        "id": "1f9hd8L0mJnD"
      }
    },
    {
      "cell_type": "markdown",
      "source": [
        "7.  How do tuples ensure data integrity in Python?\n",
        "  - Tuples in Python ensure data integrity primarily through their immutability. Once a tuple is created, its elements cannot be modified, added, or removed. This characteristic is crucial for maintaining the consistency and reliability of data."
      ],
      "metadata": {
        "id": "-dp6gyZqmgND"
      }
    },
    {
      "cell_type": "markdown",
      "source": [
        "8. What is a hash table, and how does it relate to dictionaries in Python?\n",
        "  - A hash table is a data structure that stores key-value pairs. It uses a hash function to compute an index into an array, where the value is stored. The hash function takes a key as input and outputs an integer, called a hash code, that is used as an index into the array. This allows for fast access to the value associated with a given key."
      ],
      "metadata": {
        "id": "lKYg24dnm50z"
      }
    },
    {
      "cell_type": "markdown",
      "source": [
        "9. Can lists contain different data types in Python?\n",
        "  - Yes, lists in Python can contain different data types. This is one of the key features that makes them versatile and widely used. A single list can hold a mix of integers, floats, strings, booleans, and even other lists, tuples, or dictionaries."
      ],
      "metadata": {
        "id": "iVijGYsCnK24"
      }
    },
    {
      "cell_type": "markdown",
      "source": [
        "10. Explain why strings are immutable in Python.\n",
        "  - In Python, strings are immutable, meaning their values cannot be altered after creation. This characteristic stems from design choices that prioritize efficiency, safety, and consistency."
      ],
      "metadata": {
        "id": "wKnQToyOnUff"
      }
    },
    {
      "cell_type": "markdown",
      "source": [
        "11. What advantages do dictionaries offer over lists for certain tasks?\n",
        "  - Dictionaries in Python offer fast data retrieval: Unlike lists where you have to traverse through each element to find a value, dictionaries use hash tables for quick access to values based on keys.\n",
        "  - A list can store any data type. In contrast, keys in the dictionary can be of any immutable data type, and values can be of any data type. Lists perform faster for ordered operations like sorting, while dictionaries perform faster for lookup operations."
      ],
      "metadata": {
        "id": "RNcttpOjnfuW"
      }
    },
    {
      "cell_type": "markdown",
      "source": [
        "12.  Describe a scenario where using a tuple would be preferable over a list.\n",
        "  - Tuples are immutable. Hence, they are primarily used to store data that doesn't change frequently. Any operation can store data in a tuple when you don't want it to change.\n",
        "  - Use a tuple instead of a list when you have a collection of items that should not be modified. Tuples are useful when you want to ensure that the data remains constant throughout your program. Lists, on the other hand, are more suitable when you need to add, remove, or modify elements."
      ],
      "metadata": {
        "id": "ymQIA1eZn4VO"
      }
    },
    {
      "cell_type": "markdown",
      "source": [
        "13. How do sets handle duplicate values in Python?\n",
        "  - In Python, sets are designed to store only unique elements. When you attempt to add a duplicate value to a set, it simply ignores the duplicate and the set remains unchanged. This behavior is inherent to the nature of sets, which are unordered collections of distinct items.\n",
        "      - **Automatic Removal:**\n",
        "When you create a set from an iterable (like a list or tuple) containing duplicate values, the set automatically removes them, keeping only one instance of each unique value.\n",
        "      - **No Modification:**\n",
        "If you attempt to add an existing element to a set, the set will not be modified.\n",
        "      - **Unordered:**\n",
        "Sets do not maintain any specific order of elements. The order in which you add elements might not be the same order in which they are stored."
      ],
      "metadata": {
        "id": "PfdaofXOoP3B"
      }
    },
    {
      "cell_type": "markdown",
      "source": [
        "14. How does the “in” keyword work differently for lists and dictionaries?\n",
        "  - In List the 'in' operator is used to check if a value exists within a sequence like a list, tuple, dictionary, or string. It returns True if the value is found in the sequence, and False otherwise.\n",
        "  - The in operator for dictionaries (dict) checks for the presence of a key. Use the values() and items() methods to test for the presence of values or key-value pairs."
      ],
      "metadata": {
        "id": "6M7aXf-9owMy"
      }
    },
    {
      "cell_type": "markdown",
      "source": [
        "15. Can you modify the elements of a tuple? Explain why or why not\n",
        "  - No, you cannot directly modify the elements of a tuple in Python because tuples are immutable. This means that once a tuple is created, its elements cannot be changed, added, or removed. If you try to modify a tuple, it will throw a TypeError.\n",
        "      - Tuples are immutable because:\n",
        "          - Data Integrity\n",
        "          - Efficiency\n",
        "          - Use Cases"
      ],
      "metadata": {
        "id": "WP0JOcwlMKDO"
      }
    },
    {
      "cell_type": "markdown",
      "source": [
        "16. What is a nested dictionary, and give an example of its use case?\n",
        "  - A nested dictionary in Python is a dictionary where the values are themselves dictionaries. This allows you to create hierarchical data structures, grouping related data within a single dictionary."
      ],
      "metadata": {
        "id": "f_0vy7piM4Pw"
      }
    },
    {
      "cell_type": "markdown",
      "source": [
        "17. Describe the time complexity of accessing elements in a dictionary.\n",
        "  - Accessing an element in a dictionary using a key generally has an average time complexity of O(1), meaning it's constant time. However, in the worst-case scenario, it can degrade to O(n), where n is the number of key-value pairs in the dictionary. This worst-case scenario is less common and typically occurs when there are numerous collisions in the hash table, making the access more like a linear search"
      ],
      "metadata": {
        "id": "tZ_-RzBLN5Yw"
      }
    },
    {
      "cell_type": "markdown",
      "source": [
        "18.  In what situations are lists preferred over dictionaries?\n",
        "  - For quick data look-ups, configurations, or caches, favor dictionaries. For ordered collections and sequence operations, such as maintaining a stack or queue, lists are more suitable.\n",
        "  - Elements from the list can be accessed using the index, while the elements of the dictionary can be accessed using keys."
      ],
      "metadata": {
        "id": "U2YhgOeNO3jW"
      }
    },
    {
      "cell_type": "markdown",
      "source": [
        "19. Why are dictionaries considered unordered, and how does that affect data retrieval?\n",
        "  - A dictionary is termed an unordered collection of objects because dictionaries do not maintain any inherent order of the items based on when they were added.\n",
        "  - A data dictionary defines each data element in a dataset, specifying its type, allowed values, default values, and constraints. It includes metadata about the data's purpose, source, and relationships, ensuring consistency and helping users or developers understand the data structure."
      ],
      "metadata": {
        "id": "QZPL_E2ZWEIV"
      }
    },
    {
      "cell_type": "markdown",
      "source": [
        "20.  Explain the difference between a list and a dictionary in terms of data retrieval.\n",
        "  - **Lists:**\n",
        "Accessing an element in a list requires knowing its index (position in the list). This means that to retrieve a specific element, you must start from the beginning of the list and iterate through it until you find the element at the desired index.\n",
        "\n",
        "  - **Dictionaries:**\n",
        "Dictionaries store data as key-value pairs. To retrieve a value, you specify the corresponding key. Dictionaries use a hash table (a sophisticated data structure) to efficiently map keys to values, allowing for quick lookups. This means you can retrieve a value directly from the dictionary without needing to search through its elements."
      ],
      "metadata": {
        "id": "OHEqeCAMXVvh"
      }
    },
    {
      "cell_type": "markdown",
      "source": [
        "# Practical Questions"
      ],
      "metadata": {
        "id": "7fSSQAyHgFkw"
      }
    },
    {
      "cell_type": "markdown",
      "source": [
        "1. Write a code to create a string with your name and print it."
      ],
      "metadata": {
        "id": "uHBw6R1KGLbZ"
      }
    },
    {
      "cell_type": "code",
      "execution_count": 1,
      "metadata": {
        "id": "Pz3dugmZBl5i",
        "colab": {
          "base_uri": "https://localhost:8080/"
        },
        "outputId": "9b64aed3-a33a-488f-ed28-9ce5fa69d52b"
      },
      "outputs": [
        {
          "output_type": "stream",
          "name": "stdout",
          "text": [
            "My name is Aniket Apurv.\n"
          ]
        }
      ],
      "source": [
        "name = \"Aniket Apurv\"\n",
        "print(f\"My name is {name}.\")"
      ]
    },
    {
      "cell_type": "markdown",
      "source": [
        "2. Write a code to find the length of the string \"Hello World\"."
      ],
      "metadata": {
        "id": "8g3NFYuHG8wD"
      }
    },
    {
      "cell_type": "code",
      "source": [
        "string = \"Hello World\"\n",
        "length = len(string)\n",
        "print(\"The length of the string is:\", length)"
      ],
      "metadata": {
        "colab": {
          "base_uri": "https://localhost:8080/"
        },
        "id": "GOIyqbHdGxUD",
        "outputId": "a28fe568-c8e2-4f7a-a408-b33a78fd23c4"
      },
      "execution_count": 2,
      "outputs": [
        {
          "output_type": "stream",
          "name": "stdout",
          "text": [
            "The length of the string is: 11\n"
          ]
        }
      ]
    },
    {
      "cell_type": "markdown",
      "source": [
        "3. Write a code to slice the first 3 characters from the string \"Python Programming\"."
      ],
      "metadata": {
        "id": "PsqFk3vgHxPg"
      }
    },
    {
      "cell_type": "code",
      "source": [
        "string = \"Python Programming\"\n",
        "sliced_string = string[:3]\n",
        "print(sliced_string)"
      ],
      "metadata": {
        "colab": {
          "base_uri": "https://localhost:8080/"
        },
        "id": "xP0MLLzYHqUr",
        "outputId": "6a542b6f-4ed2-487f-d755-b04ed3bfebba"
      },
      "execution_count": 3,
      "outputs": [
        {
          "output_type": "stream",
          "name": "stdout",
          "text": [
            "Pyt\n"
          ]
        }
      ]
    },
    {
      "cell_type": "markdown",
      "source": [
        "4. Write a code to convert the string \"hello\" to uppercase."
      ],
      "metadata": {
        "id": "BvB1iea9ICpJ"
      }
    },
    {
      "cell_type": "code",
      "source": [
        "string = \"hello\"\n",
        "uppercase_string = string.upper()\n",
        "print(uppercase_string)"
      ],
      "metadata": {
        "colab": {
          "base_uri": "https://localhost:8080/"
        },
        "id": "vlGjiG_QIHDx",
        "outputId": "6c6cc8ff-9e0e-45aa-c92d-1344e4a101be"
      },
      "execution_count": 4,
      "outputs": [
        {
          "output_type": "stream",
          "name": "stdout",
          "text": [
            "HELLO\n"
          ]
        }
      ]
    },
    {
      "cell_type": "markdown",
      "source": [
        "5. Write a code to replace the word \"apple\" with \"orange\" in the string \"I like apple\"."
      ],
      "metadata": {
        "id": "OyD2weaNITjy"
      }
    },
    {
      "cell_type": "code",
      "source": [
        "string1 = \"I like apple\"\n",
        "string2 = string1.replace(\"apple\", \"orange\")\n",
        "print(f\"Original string: {string1}\")\n",
        "print(f\"New string: {string2}\")"
      ],
      "metadata": {
        "colab": {
          "base_uri": "https://localhost:8080/"
        },
        "id": "BmShtzETH91q",
        "outputId": "24506d49-14e0-4933-8e4f-44107b4a9418"
      },
      "execution_count": 5,
      "outputs": [
        {
          "output_type": "stream",
          "name": "stdout",
          "text": [
            "Original string: I like apple\n",
            "New string: I like orange\n"
          ]
        }
      ]
    },
    {
      "cell_type": "markdown",
      "source": [
        "6.  Write a code to create a list with numbers 1 to 5 and print it."
      ],
      "metadata": {
        "id": "EuXu3b1rI6aE"
      }
    },
    {
      "cell_type": "code",
      "source": [
        "list = [1, 2, 3, 4, 5]\n",
        "print(f\"The created list is: {list}\")"
      ],
      "metadata": {
        "colab": {
          "base_uri": "https://localhost:8080/"
        },
        "id": "cLUoTKeNI2IT",
        "outputId": "d997b88b-c7fc-4df9-b96a-fb71efe6bc06"
      },
      "execution_count": 6,
      "outputs": [
        {
          "output_type": "stream",
          "name": "stdout",
          "text": [
            "The created list is: [1, 2, 3, 4, 5]\n"
          ]
        }
      ]
    },
    {
      "cell_type": "markdown",
      "source": [
        "7. Write a code to append the number 10 to the list [1, 2, 3, 4]."
      ],
      "metadata": {
        "id": "w29f4kg1KW9j"
      }
    },
    {
      "cell_type": "code",
      "source": [
        "list1 = [1, 2, 3, 4]\n",
        "list1.append(10)\n",
        "print(f\"The appended list is: {list1}\")"
      ],
      "metadata": {
        "colab": {
          "base_uri": "https://localhost:8080/"
        },
        "id": "1E2aAMcVJdn7",
        "outputId": "3efd3b93-6b12-43c0-def7-aa57e9436eca"
      },
      "execution_count": 7,
      "outputs": [
        {
          "output_type": "stream",
          "name": "stdout",
          "text": [
            "The appended list is: [1, 2, 3, 4, 10]\n"
          ]
        }
      ]
    },
    {
      "cell_type": "markdown",
      "source": [
        "8. Write a code to remove the number 3 from the list [1, 2, 3, 4, 5]."
      ],
      "metadata": {
        "id": "_iSOhAGVKq7l"
      }
    },
    {
      "cell_type": "code",
      "source": [
        "list2 = [1, 2, 3, 4, 5]\n",
        "list2.remove(3)\n",
        "print(f\"The removed list is: {list2}\")"
      ],
      "metadata": {
        "colab": {
          "base_uri": "https://localhost:8080/"
        },
        "id": "SW_V-xLHKjbl",
        "outputId": "4c63259f-eaef-4b8e-a9df-875eb0acdf90"
      },
      "execution_count": 8,
      "outputs": [
        {
          "output_type": "stream",
          "name": "stdout",
          "text": [
            "The removed list is: [1, 2, 4, 5]\n"
          ]
        }
      ]
    },
    {
      "cell_type": "markdown",
      "source": [
        "9.  Write a code to access the second element in the list ['a', 'b', 'c', 'd']."
      ],
      "metadata": {
        "id": "Z0Ujp-ZFKwo9"
      }
    },
    {
      "cell_type": "code",
      "source": [
        "list3 = ['a', 'b', 'c', 'd']\n",
        "second_element = list3[1]\n",
        "print(second_element)"
      ],
      "metadata": {
        "colab": {
          "base_uri": "https://localhost:8080/"
        },
        "id": "xk-juK5iKvNj",
        "outputId": "18bc58d1-9764-4886-9509-7a6433047f8e"
      },
      "execution_count": 9,
      "outputs": [
        {
          "output_type": "stream",
          "name": "stdout",
          "text": [
            "b\n"
          ]
        }
      ]
    },
    {
      "cell_type": "markdown",
      "source": [
        "10.  Write a code to reverse the list [10, 20, 30, 40, 50]."
      ],
      "metadata": {
        "id": "1ag1suhyLqVB"
      }
    },
    {
      "cell_type": "code",
      "source": [
        "list4 = [10, 20, 30, 40, 50]\n",
        "list4.reverse()\n",
        "print(list4)"
      ],
      "metadata": {
        "colab": {
          "base_uri": "https://localhost:8080/"
        },
        "id": "rQnO1UW-Ln4L",
        "outputId": "00c69268-118b-46b3-c433-d2f536fbf4be"
      },
      "execution_count": 11,
      "outputs": [
        {
          "output_type": "stream",
          "name": "stdout",
          "text": [
            "[50, 40, 30, 20, 10]\n"
          ]
        }
      ]
    },
    {
      "cell_type": "markdown",
      "source": [
        "11. Write a code to create a tuple with the elements 100, 200, 300 and print it."
      ],
      "metadata": {
        "id": "Cpw2iOXROA0z"
      }
    },
    {
      "cell_type": "code",
      "source": [
        "tuple = (100, 200, 300)\n",
        "print(tuple)"
      ],
      "metadata": {
        "colab": {
          "base_uri": "https://localhost:8080/"
        },
        "id": "o7-_cEZrMM10",
        "outputId": "dfee6fa6-fae5-4620-95b5-4313f5e97355"
      },
      "execution_count": 12,
      "outputs": [
        {
          "output_type": "stream",
          "name": "stdout",
          "text": [
            "(100, 200, 300)\n"
          ]
        }
      ]
    },
    {
      "cell_type": "markdown",
      "source": [
        "12. Write a code to access the second-to-last element of the tuple ('red', 'green', 'blue', 'yellow')"
      ],
      "metadata": {
        "id": "sOAg8ygdPykr"
      }
    },
    {
      "cell_type": "code",
      "source": [
        "tuple2 = ('red', 'green', 'blue', 'yellow')\n",
        "second_to_last = tuple2[-2]\n",
        "print(second_to_last)"
      ],
      "metadata": {
        "colab": {
          "base_uri": "https://localhost:8080/"
        },
        "id": "HOwFO3xrOT6c",
        "outputId": "b8bf9b30-c913-4800-a413-93e1d35bace0"
      },
      "execution_count": 13,
      "outputs": [
        {
          "output_type": "stream",
          "name": "stdout",
          "text": [
            "blue\n"
          ]
        }
      ]
    },
    {
      "cell_type": "markdown",
      "source": [
        "13.  Write a code to find the minimum number in the tuple (10, 20, 5, 15)"
      ],
      "metadata": {
        "id": "h4zMggKuQQON"
      }
    },
    {
      "cell_type": "code",
      "source": [
        "tuple3 = (10, 20, 5, 15)\n",
        "min_number = min(tuple3)\n",
        "print(f\"The minimum number in the tuple is: {min_number}\")"
      ],
      "metadata": {
        "colab": {
          "base_uri": "https://localhost:8080/"
        },
        "id": "6J8cRbQOQHBF",
        "outputId": "234ea606-152d-4ce6-ee0d-c4ca0c29feaa"
      },
      "execution_count": 14,
      "outputs": [
        {
          "output_type": "stream",
          "name": "stdout",
          "text": [
            "The minimum number in the tuple is: 5\n"
          ]
        }
      ]
    },
    {
      "cell_type": "markdown",
      "source": [
        "14.  Write a code to find the index of the element \"cat\" in the tuple ('dog', 'cat', 'rabbit')."
      ],
      "metadata": {
        "id": "l8N6PevDQjze"
      }
    },
    {
      "cell_type": "code",
      "source": [
        "tuple4 = ('dog', 'cat', 'rabbit')\n",
        "element_to_find = 'cat'\n",
        "try:\n",
        "    index = tuple4.index(element_to_find)\n",
        "    print(f\"The index of '{element_to_find}' is: {index}\")\n",
        "except ValueError:\n",
        "    print(f\"'{element_to_find}' is not found in the tuple.\")"
      ],
      "metadata": {
        "colab": {
          "base_uri": "https://localhost:8080/"
        },
        "id": "OhVp60rIQd2M",
        "outputId": "12748a10-5e6e-41a6-9b9e-567534f5954d"
      },
      "execution_count": 15,
      "outputs": [
        {
          "output_type": "stream",
          "name": "stdout",
          "text": [
            "The index of 'cat' is: 1\n"
          ]
        }
      ]
    },
    {
      "cell_type": "markdown",
      "source": [
        "15.  Write a code to create a tuple containing three different fruits and check if \"kiwi\" is in it."
      ],
      "metadata": {
        "id": "-aekequnRd5z"
      }
    },
    {
      "cell_type": "code",
      "source": [
        "fruits_tuple = (\"apple\", \"banana\", \"orange\")\n",
        "\n",
        "if \"kiwi\" in fruits_tuple:\n",
        "    print(\"Yes, 'kiwi' is in the fruits tuple.\")\n",
        "else:\n",
        "    print(\"No, 'kiwi' is not in the fruits tuple.\")"
      ],
      "metadata": {
        "colab": {
          "base_uri": "https://localhost:8080/"
        },
        "id": "yIWpcRxBRUsF",
        "outputId": "f97b4672-5896-4f5a-ff1a-5578eedb839a"
      },
      "execution_count": 16,
      "outputs": [
        {
          "output_type": "stream",
          "name": "stdout",
          "text": [
            "No, 'kiwi' is not in the fruits tuple.\n"
          ]
        }
      ]
    },
    {
      "cell_type": "markdown",
      "source": [
        "16.  Write a code to create a set with the elements 'a', 'b', 'c' and print it."
      ],
      "metadata": {
        "id": "j49LFwfhR6m0"
      }
    },
    {
      "cell_type": "code",
      "source": [
        "set = {'a', 'b', 'c'}\n",
        "print(set)"
      ],
      "metadata": {
        "colab": {
          "base_uri": "https://localhost:8080/"
        },
        "id": "fRwle8DYRuMc",
        "outputId": "1ce6556a-3171-4e08-e31b-79bbd248eab1"
      },
      "execution_count": 17,
      "outputs": [
        {
          "output_type": "stream",
          "name": "stdout",
          "text": [
            "{'a', 'c', 'b'}\n"
          ]
        }
      ]
    },
    {
      "cell_type": "markdown",
      "source": [
        "17.  Write a code to clear all elements from the set {1, 2, 3, 4, 5}"
      ],
      "metadata": {
        "id": "CKBBvntTSNdO"
      }
    },
    {
      "cell_type": "code",
      "source": [
        "set1 = {1, 2, 3, 4, 5}\n",
        "set1.clear()\n",
        "print(set1)"
      ],
      "metadata": {
        "colab": {
          "base_uri": "https://localhost:8080/"
        },
        "id": "2Lk-kVNSSMK1",
        "outputId": "c45ff918-c37d-42eb-8af7-7e264cf593f9"
      },
      "execution_count": 18,
      "outputs": [
        {
          "output_type": "stream",
          "name": "stdout",
          "text": [
            "set()\n"
          ]
        }
      ]
    },
    {
      "cell_type": "markdown",
      "source": [
        "18.  Write a code to remove the element 4 from the set {1, 2, 3, 4}."
      ],
      "metadata": {
        "id": "TtyhCMl-SpBH"
      }
    },
    {
      "cell_type": "code",
      "source": [
        "set2 = {1, 2, 3, 4}\n",
        "set2.remove(4)\n",
        "set2"
      ],
      "metadata": {
        "colab": {
          "base_uri": "https://localhost:8080/"
        },
        "id": "WwdPSr7YSz5Q",
        "outputId": "5c0c96cd-73e0-41e2-f595-37df930edfbe"
      },
      "execution_count": 19,
      "outputs": [
        {
          "output_type": "execute_result",
          "data": {
            "text/plain": [
              "{1, 2, 3}"
            ]
          },
          "metadata": {},
          "execution_count": 19
        }
      ]
    },
    {
      "cell_type": "markdown",
      "source": [
        "19. Write a code to find the union of two sets {1, 2, 3} and {3, 4, 5}."
      ],
      "metadata": {
        "id": "r4slWTfjTD35"
      }
    },
    {
      "cell_type": "code",
      "source": [
        "set1 = {1, 2, 3}\n",
        "set2 = {3, 4, 5}\n",
        "union_set_operator = set1 | set2\n",
        "print(union_set_operator)"
      ],
      "metadata": {
        "colab": {
          "base_uri": "https://localhost:8080/"
        },
        "id": "VKLzTc9qS2EF",
        "outputId": "47752f05-cb4f-483d-aaaa-645ad45a5b2e"
      },
      "execution_count": 20,
      "outputs": [
        {
          "output_type": "stream",
          "name": "stdout",
          "text": [
            "{1, 2, 3, 4, 5}\n"
          ]
        }
      ]
    },
    {
      "cell_type": "markdown",
      "source": [
        "20.  Write a code to find the intersection of two sets {1, 2, 3} and {2, 3, 4}."
      ],
      "metadata": {
        "id": "clgCIH7PTses"
      }
    },
    {
      "cell_type": "code",
      "source": [
        "set1 = {1, 2, 3}\n",
        "set2 = {2, 3, 4}\n",
        "intersection_set_operator = set1 & set2\n",
        "print(intersection_set_operator)"
      ],
      "metadata": {
        "colab": {
          "base_uri": "https://localhost:8080/"
        },
        "id": "86THgPGlTpjF",
        "outputId": "011ca241-c0a0-4675-aa0a-4aa33a4dd0ed"
      },
      "execution_count": 21,
      "outputs": [
        {
          "output_type": "stream",
          "name": "stdout",
          "text": [
            "{2, 3}\n"
          ]
        }
      ]
    },
    {
      "cell_type": "markdown",
      "source": [
        "21. Write a code to create a dictionary with the keys \"name\", \"age\", and \"city\", and print it."
      ],
      "metadata": {
        "id": "Ge7w_AK4UAu-"
      }
    },
    {
      "cell_type": "code",
      "source": [
        "dictionary = {\n",
        "    \"Name\": \"Aniket Apurv\",\n",
        "    \"Age\": 27,\n",
        "    \"City\": \"Navi Mumbai\"}\n",
        "print(dictionary)"
      ],
      "metadata": {
        "colab": {
          "base_uri": "https://localhost:8080/"
        },
        "id": "UF9KF1yJT_Jd",
        "outputId": "98c05f04-dcfd-44cb-b08a-41af816286f9"
      },
      "execution_count": 23,
      "outputs": [
        {
          "output_type": "stream",
          "name": "stdout",
          "text": [
            "{'Name': 'Aniket Apurv', 'Age': 27, 'City': 'Navi Mumbai'}\n"
          ]
        }
      ]
    },
    {
      "cell_type": "markdown",
      "source": [
        "22.  Write a code to add a new key-value pair \"country\": \"USA\" to the dictionary {'name': 'John', 'age': 25}."
      ],
      "metadata": {
        "id": "Qq2qzL45VfQG"
      }
    },
    {
      "cell_type": "code",
      "source": [
        "my_dict = {'name': 'John', 'age': 25}\n",
        "my_dict[\"country\"] = \"USA\"\n",
        "print(my_dict)"
      ],
      "metadata": {
        "colab": {
          "base_uri": "https://localhost:8080/"
        },
        "id": "ZhHSLdMIVaB2",
        "outputId": "04fe0533-d2fe-4cd2-a8aa-79b46750b4d9"
      },
      "execution_count": 24,
      "outputs": [
        {
          "output_type": "stream",
          "name": "stdout",
          "text": [
            "{'name': 'John', 'age': 25, 'country': 'USA'}\n"
          ]
        }
      ]
    },
    {
      "cell_type": "markdown",
      "source": [
        "23. Write a code to access the value associated with the key \"name\" in the dictionary {'name': 'Alice', 'age': 30}."
      ],
      "metadata": {
        "id": "N_PYVh1CV0Pm"
      }
    },
    {
      "cell_type": "code",
      "source": [
        "my_dict1 = {'name': 'Aniket Apurv', 'age': 27}\n",
        "name_value = my_dict1[\"name\"]\n",
        "print(name_value)"
      ],
      "metadata": {
        "colab": {
          "base_uri": "https://localhost:8080/"
        },
        "id": "DAyf2DfLVvBc",
        "outputId": "1ce5ab35-b622-4739-d097-359928d8e350"
      },
      "execution_count": 26,
      "outputs": [
        {
          "output_type": "stream",
          "name": "stdout",
          "text": [
            "Aniket Apurv\n"
          ]
        }
      ]
    },
    {
      "cell_type": "markdown",
      "source": [
        "24.  Write a code to remove the key \"age\" from the dictionary {'name': 'Bob', 'age': 22, 'city': 'New York'}."
      ],
      "metadata": {
        "id": "FvYf1foTYn7j"
      }
    },
    {
      "cell_type": "code",
      "source": [
        "my_dict2 = {'name': 'Bob', 'age': 22, 'city': 'New York'}\n",
        "removed_age = my_dict2.pop(\"age\")\n",
        "print(f\"Updated dictionary: {my_dict2}\")"
      ],
      "metadata": {
        "colab": {
          "base_uri": "https://localhost:8080/"
        },
        "id": "z1NzwnolYjzv",
        "outputId": "458d8125-d283-410b-dd16-325d9a47aa3c"
      },
      "execution_count": 28,
      "outputs": [
        {
          "output_type": "stream",
          "name": "stdout",
          "text": [
            "Updated dictionary: {'name': 'Bob', 'city': 'New York'}\n"
          ]
        }
      ]
    },
    {
      "cell_type": "markdown",
      "source": [
        "25.  Write a code to check if the key \"city\" exists in the dictionary {'name': 'Alice', 'city': 'Paris'}."
      ],
      "metadata": {
        "id": "kVXj9LzUZN8t"
      }
    },
    {
      "cell_type": "code",
      "source": [
        "my_dict2 = {'name': 'Bob', 'age': 22, 'city': 'New York'}\n",
        "if \"city\" in my_dict2:\n",
        "    print(\"The key 'city' exists in the dictionary.\")\n",
        "else:\n",
        "    print(\"The key 'city' does not exist in the dictionary.\")"
      ],
      "metadata": {
        "colab": {
          "base_uri": "https://localhost:8080/"
        },
        "id": "TkaVwe0CZHuP",
        "outputId": "3c187d49-408a-49c0-baff-cc1132ac130a"
      },
      "execution_count": 30,
      "outputs": [
        {
          "output_type": "stream",
          "name": "stdout",
          "text": [
            "The key 'city' exists in the dictionary.\n"
          ]
        }
      ]
    },
    {
      "cell_type": "markdown",
      "source": [
        "26. Write a code to create a list, a tuple, and a dictionary, and print them all."
      ],
      "metadata": {
        "id": "8pPxQx5kaXjT"
      }
    },
    {
      "cell_type": "code",
      "source": [
        "list = [10, 20, 30, \"apple\", True]\n",
        "tuple = (\"red\", \"green\", \"blue\", 1, 2)\n",
        "dictionary = {\n",
        "    \"brand\": \"Ford\",\n",
        "    \"model\": \"Mustang\",\n",
        "    \"year\": 1964\n",
        "}\n",
        "print(\"My List:\", list)\n",
        "print(\"My Tuple:\", tuple)\n",
        "print(\"My Dictionary:\", dictionary)"
      ],
      "metadata": {
        "colab": {
          "base_uri": "https://localhost:8080/"
        },
        "id": "qdekLIaWZjXu",
        "outputId": "d35b75b0-836c-4cdb-d137-19fbe93b6288"
      },
      "execution_count": 31,
      "outputs": [
        {
          "output_type": "stream",
          "name": "stdout",
          "text": [
            "My List: [10, 20, 30, 'apple', True]\n",
            "My Tuple: ('red', 'green', 'blue', 1, 2)\n",
            "My Dictionary: {'brand': 'Ford', 'model': 'Mustang', 'year': 1964}\n"
          ]
        }
      ]
    },
    {
      "cell_type": "markdown",
      "source": [
        "27.  Write a code to create a list of 5 random numbers between 1 and 100, sort it in ascending order, and print the result."
      ],
      "metadata": {
        "id": "mQoxQ42Masks"
      }
    },
    {
      "cell_type": "code",
      "source": [
        "import random\n",
        "random_numbers = [random.randint(1, 100) for _ in range(5)]\n",
        "print(random_numbers)\n",
        "random_numbers.sort()\n",
        "print(random_numbers)"
      ],
      "metadata": {
        "colab": {
          "base_uri": "https://localhost:8080/"
        },
        "id": "Oi7rQDoCaq3_",
        "outputId": "ce0e086e-607a-4b35-de1d-3cf398d57a05"
      },
      "execution_count": 35,
      "outputs": [
        {
          "output_type": "stream",
          "name": "stdout",
          "text": [
            "[35, 88, 8, 1, 34]\n",
            "[1, 8, 34, 35, 88]\n"
          ]
        }
      ]
    },
    {
      "cell_type": "markdown",
      "source": [
        "28. Write a code to create a list with strings and print the element at the third index."
      ],
      "metadata": {
        "id": "1LKhxRFJbgnu"
      }
    },
    {
      "cell_type": "code",
      "source": [
        "my_strings = [\"apple\", \"banana\", \"cherry\", \"date\", \"elderberry\"]\n",
        "print(my_strings[3])"
      ],
      "metadata": {
        "colab": {
          "base_uri": "https://localhost:8080/"
        },
        "id": "WW-wwbirbS4H",
        "outputId": "8518e5d1-d53a-420e-b709-e9a367520c86"
      },
      "execution_count": 36,
      "outputs": [
        {
          "output_type": "stream",
          "name": "stdout",
          "text": [
            "date\n"
          ]
        }
      ]
    },
    {
      "cell_type": "markdown",
      "source": [
        "29. Write a code to combine two dictionaries into one and print the result."
      ],
      "metadata": {
        "id": "AAcmd4i7byTo"
      }
    },
    {
      "cell_type": "code",
      "source": [
        "dict1 = {'Name': 'Aniket Apurv', 'Age': 27}\n",
        "dict2 = {'City': 'Navi Mumbai', 'Occupation': 'Engineer'}\n",
        "dict1.update(dict2)\n",
        "print(\"Combined dictionary:\", dict1)"
      ],
      "metadata": {
        "colab": {
          "base_uri": "https://localhost:8080/"
        },
        "id": "Mrbhizo4bwj-",
        "outputId": "a2bfc3ad-924e-4515-ee6c-4d9fcfb756b6"
      },
      "execution_count": 40,
      "outputs": [
        {
          "output_type": "stream",
          "name": "stdout",
          "text": [
            "Combined dictionary: {'Name': 'Aniket Apurv', 'Age': 27, 'City': 'Navi Mumbai', 'Occupation': 'Engineer'}\n"
          ]
        }
      ]
    },
    {
      "cell_type": "markdown",
      "source": [
        "30.  Write a code to convert a list of strings into a set."
      ],
      "metadata": {
        "id": "d0Nn_I2ZcTA6"
      }
    },
    {
      "cell_type": "code",
      "source": [
        "strings = [\"apple\", \"banana\", \"cherry\", \"apple\", \"date\", \"banana\"]\n",
        "set_from_list = set(strings)\n",
        "print(set_from_list)"
      ],
      "metadata": {
        "colab": {
          "base_uri": "https://localhost:8080/",
          "height": 176
        },
        "id": "e5WA0_xecFo2",
        "outputId": "b70bdae4-4e37-407f-b010-d454947eae94"
      },
      "execution_count": 44,
      "outputs": [
        {
          "output_type": "error",
          "ename": "TypeError",
          "evalue": "'set' object is not callable",
          "traceback": [
            "\u001b[0;31m---------------------------------------------------------------------------\u001b[0m",
            "\u001b[0;31mTypeError\u001b[0m                                 Traceback (most recent call last)",
            "\u001b[0;32m<ipython-input-44-7864d922c419>\u001b[0m in \u001b[0;36m<cell line: 0>\u001b[0;34m()\u001b[0m\n\u001b[1;32m      1\u001b[0m \u001b[0mstrings\u001b[0m \u001b[0;34m=\u001b[0m \u001b[0;34m[\u001b[0m\u001b[0;34m\"apple\"\u001b[0m\u001b[0;34m,\u001b[0m \u001b[0;34m\"banana\"\u001b[0m\u001b[0;34m,\u001b[0m \u001b[0;34m\"cherry\"\u001b[0m\u001b[0;34m,\u001b[0m \u001b[0;34m\"apple\"\u001b[0m\u001b[0;34m,\u001b[0m \u001b[0;34m\"date\"\u001b[0m\u001b[0;34m,\u001b[0m \u001b[0;34m\"banana\"\u001b[0m\u001b[0;34m]\u001b[0m\u001b[0;34m\u001b[0m\u001b[0;34m\u001b[0m\u001b[0m\n\u001b[0;32m----> 2\u001b[0;31m \u001b[0mset_from_list\u001b[0m \u001b[0;34m=\u001b[0m \u001b[0mset\u001b[0m\u001b[0;34m(\u001b[0m\u001b[0mstrings\u001b[0m\u001b[0;34m)\u001b[0m\u001b[0;34m\u001b[0m\u001b[0;34m\u001b[0m\u001b[0m\n\u001b[0m\u001b[1;32m      3\u001b[0m \u001b[0mprint\u001b[0m\u001b[0;34m(\u001b[0m\u001b[0mset_from_list\u001b[0m\u001b[0;34m)\u001b[0m\u001b[0;34m\u001b[0m\u001b[0;34m\u001b[0m\u001b[0m\n",
            "\u001b[0;31mTypeError\u001b[0m: 'set' object is not callable"
          ]
        }
      ]
    },
    {
      "cell_type": "code",
      "source": [],
      "metadata": {
        "id": "YK4uzoqFclK2"
      },
      "execution_count": null,
      "outputs": []
    }
  ]
}